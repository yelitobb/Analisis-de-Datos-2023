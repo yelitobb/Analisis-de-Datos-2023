{
 "cells": [
  {
   "cell_type": "code",
   "execution_count": 1,
   "metadata": {},
   "outputs": [],
   "source": [
    "import requests\n",
    "import pandas as pd"
   ]
  },
  {
   "cell_type": "code",
   "execution_count": 2,
   "metadata": {},
   "outputs": [],
   "source": [
    "r = requests.get('https://api.nasa.gov/neo/rest/v1/neo/browse/?api_key=DEMO_KEY')"
   ]
  },
  {
   "cell_type": "code",
   "execution_count": 3,
   "metadata": {},
   "outputs": [
    {
     "data": {
      "text/plain": [
       "200"
      ]
     },
     "execution_count": 3,
     "metadata": {},
     "output_type": "execute_result"
    }
   ],
   "source": [
    "r.status_code"
   ]
  },
  {
   "cell_type": "markdown",
   "metadata": {},
   "source": [
    "Códigos de retorno más comunes de HTTP:\n",
    "\n",
    "200: La solicitud se realizó correctamente y el servidor devolvió los datos solicitados.\n",
    "\n",
    "201 (Creado): La solicitud se realizó correctamente y el servidor creó un nuevo recurso.\n",
    "\n",
    "204 (Sin contenido): La solicitud se realizó correctamente, pero no hay contenido que devolver.\n",
    "\n",
    "4xx (Error del cliente): Indica que se produjo un error en el lado del cliente.\n",
    "\n",
    "400 (Solicitud incorrecta): La solicitud es inválida y no puede ser procesada por el servidor.\n",
    "...\n",
    "\n",
    "5xx (Error del servidor): Indica que se produjo un error en el lado del servidor.\n",
    "\n",
    "500 (Error interno del servidor): El servidor encontró un error interno durante el procesamiento de la solicitud."
   ]
  },
  {
   "cell_type": "code",
   "execution_count": 4,
   "metadata": {},
   "outputs": [
    {
     "data": {
      "text/plain": [
       "200"
      ]
     },
     "execution_count": 4,
     "metadata": {},
     "output_type": "execute_result"
    }
   ],
   "source": [
    "url = \"https://api.nasa.gov/neo/rest/v1/neo/browse/\"\n",
    "mi_key = {'api_key': '6Va0uyd5tLUm89J4pqbnKWhk9iZYeRfseEMkzdBP'}\n",
    "\n",
    "response = requests.get(url, params=mi_key)\n",
    "\n",
    "response.status_code"
   ]
  },
  {
   "cell_type": "code",
   "execution_count": 5,
   "metadata": {},
   "outputs": [
    {
     "data": {
      "text/plain": [
       "200"
      ]
     },
     "execution_count": 5,
     "metadata": {},
     "output_type": "execute_result"
    }
   ],
   "source": [
    "url = \"https://api.nasa.gov/neo/rest/v1/neo/browse/\"\n",
    "mis_params = {'api_key': '6Va0uyd5tLUm89J4pqbnKWhk9iZYeRfseEMkzdBP',\n",
    "             'start_date': '2023-04-01',\n",
    "             'end_date': '2023-04-30'}\n",
    "\n",
    "r2 = requests.get(url, params = mis_params)\n",
    "\n",
    "r2.status_code"
   ]
  },
  {
   "cell_type": "code",
   "execution_count": 6,
   "metadata": {},
   "outputs": [],
   "source": [
    "dict_data = r2.json()"
   ]
  },
  {
   "cell_type": "code",
   "execution_count": 7,
   "metadata": {},
   "outputs": [
    {
     "data": {
      "text/plain": [
       "dict_keys(['links', 'page', 'near_earth_objects'])"
      ]
     },
     "execution_count": 7,
     "metadata": {},
     "output_type": "execute_result"
    }
   ],
   "source": [
    "dict_data.keys()"
   ]
  },
  {
   "cell_type": "code",
   "execution_count": 8,
   "metadata": {},
   "outputs": [],
   "source": [
    "data = dict_data['near_earth_objects']"
   ]
  },
  {
   "cell_type": "code",
   "execution_count": 9,
   "metadata": {},
   "outputs": [
    {
     "data": {
      "text/html": [
       "<div>\n",
       "<style scoped>\n",
       "    .dataframe tbody tr th:only-of-type {\n",
       "        vertical-align: middle;\n",
       "    }\n",
       "\n",
       "    .dataframe tbody tr th {\n",
       "        vertical-align: top;\n",
       "    }\n",
       "\n",
       "    .dataframe thead th {\n",
       "        text-align: right;\n",
       "    }\n",
       "</style>\n",
       "<table border=\"1\" class=\"dataframe\">\n",
       "  <thead>\n",
       "    <tr style=\"text-align: right;\">\n",
       "      <th></th>\n",
       "      <th>id</th>\n",
       "      <th>neo_reference_id</th>\n",
       "      <th>name</th>\n",
       "      <th>name_limited</th>\n",
       "      <th>designation</th>\n",
       "      <th>nasa_jpl_url</th>\n",
       "      <th>absolute_magnitude_h</th>\n",
       "      <th>is_potentially_hazardous_asteroid</th>\n",
       "      <th>close_approach_data</th>\n",
       "      <th>is_sentry_object</th>\n",
       "      <th>...</th>\n",
       "      <th>orbital_data.perihelion_distance</th>\n",
       "      <th>orbital_data.perihelion_argument</th>\n",
       "      <th>orbital_data.aphelion_distance</th>\n",
       "      <th>orbital_data.perihelion_time</th>\n",
       "      <th>orbital_data.mean_anomaly</th>\n",
       "      <th>orbital_data.mean_motion</th>\n",
       "      <th>orbital_data.equinox</th>\n",
       "      <th>orbital_data.orbit_class.orbit_class_type</th>\n",
       "      <th>orbital_data.orbit_class.orbit_class_description</th>\n",
       "      <th>orbital_data.orbit_class.orbit_class_range</th>\n",
       "    </tr>\n",
       "  </thead>\n",
       "  <tbody>\n",
       "    <tr>\n",
       "      <th>0</th>\n",
       "      <td>2000433</td>\n",
       "      <td>2000433</td>\n",
       "      <td>433 Eros (A898 PA)</td>\n",
       "      <td>Eros</td>\n",
       "      <td>433</td>\n",
       "      <td>http://ssd.jpl.nasa.gov/sbdb.cgi?sstr=2000433</td>\n",
       "      <td>10.31</td>\n",
       "      <td>False</td>\n",
       "      <td>[{'close_approach_date': '1900-12-27', 'close_...</td>\n",
       "      <td>False</td>\n",
       "      <td>...</td>\n",
       "      <td>1.133284372081002</td>\n",
       "      <td>178.9269951795186</td>\n",
       "      <td>1.782973900121676</td>\n",
       "      <td>2459802.601698595905</td>\n",
       "      <td>110.7776526746434</td>\n",
       "      <td>.5597706088868498</td>\n",
       "      <td>J2000</td>\n",
       "      <td>AMO</td>\n",
       "      <td>Near-Earth asteroid orbits similar to that of ...</td>\n",
       "      <td>1.017 AU &lt; q (perihelion) &lt; 1.3 AU</td>\n",
       "    </tr>\n",
       "    <tr>\n",
       "      <th>1</th>\n",
       "      <td>2000719</td>\n",
       "      <td>2000719</td>\n",
       "      <td>719 Albert (A911 TB)</td>\n",
       "      <td>Albert</td>\n",
       "      <td>719</td>\n",
       "      <td>http://ssd.jpl.nasa.gov/sbdb.cgi?sstr=2000719</td>\n",
       "      <td>15.59</td>\n",
       "      <td>False</td>\n",
       "      <td>[{'close_approach_date': '1909-08-21', 'close_...</td>\n",
       "      <td>False</td>\n",
       "      <td>...</td>\n",
       "      <td>1.194521858788897</td>\n",
       "      <td>156.2503681890173</td>\n",
       "      <td>4.079828796226027</td>\n",
       "      <td>2459956.023234763085</td>\n",
       "      <td>10.23596428095426</td>\n",
       "      <td>.2301418330768929</td>\n",
       "      <td>J2000</td>\n",
       "      <td>AMO</td>\n",
       "      <td>Near-Earth asteroid orbits similar to that of ...</td>\n",
       "      <td>1.017 AU &lt; q (perihelion) &lt; 1.3 AU</td>\n",
       "    </tr>\n",
       "    <tr>\n",
       "      <th>2</th>\n",
       "      <td>2000887</td>\n",
       "      <td>2000887</td>\n",
       "      <td>887 Alinda (A918 AA)</td>\n",
       "      <td>Alinda</td>\n",
       "      <td>887</td>\n",
       "      <td>http://ssd.jpl.nasa.gov/sbdb.cgi?sstr=2000887</td>\n",
       "      <td>13.83</td>\n",
       "      <td>False</td>\n",
       "      <td>[{'close_approach_date': '1910-01-04', 'close_...</td>\n",
       "      <td>False</td>\n",
       "      <td>...</td>\n",
       "      <td>1.061321201278226</td>\n",
       "      <td>350.4750169387657</td>\n",
       "      <td>3.883609286075629</td>\n",
       "      <td>2460678.792844248905</td>\n",
       "      <td>188.0405622650862</td>\n",
       "      <td>.2535179888641312</td>\n",
       "      <td>J2000</td>\n",
       "      <td>AMO</td>\n",
       "      <td>Near-Earth asteroid orbits similar to that of ...</td>\n",
       "      <td>1.017 AU &lt; q (perihelion) &lt; 1.3 AU</td>\n",
       "    </tr>\n",
       "  </tbody>\n",
       "</table>\n",
       "<p>3 rows × 44 columns</p>\n",
       "</div>"
      ],
      "text/plain": [
       "        id neo_reference_id                  name name_limited designation  \\\n",
       "0  2000433          2000433    433 Eros (A898 PA)         Eros         433   \n",
       "1  2000719          2000719  719 Albert (A911 TB)       Albert         719   \n",
       "2  2000887          2000887  887 Alinda (A918 AA)       Alinda         887   \n",
       "\n",
       "                                    nasa_jpl_url  absolute_magnitude_h  \\\n",
       "0  http://ssd.jpl.nasa.gov/sbdb.cgi?sstr=2000433                 10.31   \n",
       "1  http://ssd.jpl.nasa.gov/sbdb.cgi?sstr=2000719                 15.59   \n",
       "2  http://ssd.jpl.nasa.gov/sbdb.cgi?sstr=2000887                 13.83   \n",
       "\n",
       "   is_potentially_hazardous_asteroid  \\\n",
       "0                              False   \n",
       "1                              False   \n",
       "2                              False   \n",
       "\n",
       "                                 close_approach_data  is_sentry_object  ...  \\\n",
       "0  [{'close_approach_date': '1900-12-27', 'close_...             False  ...   \n",
       "1  [{'close_approach_date': '1909-08-21', 'close_...             False  ...   \n",
       "2  [{'close_approach_date': '1910-01-04', 'close_...             False  ...   \n",
       "\n",
       "  orbital_data.perihelion_distance  orbital_data.perihelion_argument  \\\n",
       "0                1.133284372081002                 178.9269951795186   \n",
       "1                1.194521858788897                 156.2503681890173   \n",
       "2                1.061321201278226                 350.4750169387657   \n",
       "\n",
       "   orbital_data.aphelion_distance  orbital_data.perihelion_time  \\\n",
       "0               1.782973900121676          2459802.601698595905   \n",
       "1               4.079828796226027          2459956.023234763085   \n",
       "2               3.883609286075629          2460678.792844248905   \n",
       "\n",
       "   orbital_data.mean_anomaly  orbital_data.mean_motion  orbital_data.equinox  \\\n",
       "0          110.7776526746434         .5597706088868498                 J2000   \n",
       "1          10.23596428095426         .2301418330768929                 J2000   \n",
       "2          188.0405622650862         .2535179888641312                 J2000   \n",
       "\n",
       "   orbital_data.orbit_class.orbit_class_type  \\\n",
       "0                                        AMO   \n",
       "1                                        AMO   \n",
       "2                                        AMO   \n",
       "\n",
       "    orbital_data.orbit_class.orbit_class_description  \\\n",
       "0  Near-Earth asteroid orbits similar to that of ...   \n",
       "1  Near-Earth asteroid orbits similar to that of ...   \n",
       "2  Near-Earth asteroid orbits similar to that of ...   \n",
       "\n",
       "  orbital_data.orbit_class.orbit_class_range  \n",
       "0         1.017 AU < q (perihelion) < 1.3 AU  \n",
       "1         1.017 AU < q (perihelion) < 1.3 AU  \n",
       "2         1.017 AU < q (perihelion) < 1.3 AU  \n",
       "\n",
       "[3 rows x 44 columns]"
      ]
     },
     "execution_count": 9,
     "metadata": {},
     "output_type": "execute_result"
    }
   ],
   "source": [
    "# pd.json_normalize : Normalize semi-structured JSON data into a flat table.\n",
    "# https://pandas.pydata.org/docs/reference/api/pandas.json_normalize.html\n",
    "\n",
    "df = pd.json_normalize(data)\n",
    "df.head(3)"
   ]
  },
  {
   "cell_type": "code",
   "execution_count": 10,
   "metadata": {},
   "outputs": [
    {
     "data": {
      "text/plain": [
       "(20, 44)"
      ]
     },
     "execution_count": 10,
     "metadata": {},
     "output_type": "execute_result"
    }
   ],
   "source": [
    "df.shape\n"
   ]
  },
  {
   "cell_type": "code",
   "execution_count": 11,
   "metadata": {},
   "outputs": [
    {
     "data": {
      "text/plain": [
       "Index(['id', 'neo_reference_id', 'name', 'name_limited', 'designation',\n",
       "       'nasa_jpl_url', 'absolute_magnitude_h',\n",
       "       'is_potentially_hazardous_asteroid', 'close_approach_data',\n",
       "       'is_sentry_object', 'links.self',\n",
       "       'estimated_diameter.kilometers.estimated_diameter_min',\n",
       "       'estimated_diameter.kilometers.estimated_diameter_max',\n",
       "       'estimated_diameter.meters.estimated_diameter_min',\n",
       "       'estimated_diameter.meters.estimated_diameter_max',\n",
       "       'estimated_diameter.miles.estimated_diameter_min',\n",
       "       'estimated_diameter.miles.estimated_diameter_max',\n",
       "       'estimated_diameter.feet.estimated_diameter_min',\n",
       "       'estimated_diameter.feet.estimated_diameter_max',\n",
       "       'orbital_data.orbit_id', 'orbital_data.orbit_determination_date',\n",
       "       'orbital_data.first_observation_date',\n",
       "       'orbital_data.last_observation_date', 'orbital_data.data_arc_in_days',\n",
       "       'orbital_data.observations_used', 'orbital_data.orbit_uncertainty',\n",
       "       'orbital_data.minimum_orbit_intersection',\n",
       "       'orbital_data.jupiter_tisserand_invariant',\n",
       "       'orbital_data.epoch_osculation', 'orbital_data.eccentricity',\n",
       "       'orbital_data.semi_major_axis', 'orbital_data.inclination',\n",
       "       'orbital_data.ascending_node_longitude', 'orbital_data.orbital_period',\n",
       "       'orbital_data.perihelion_distance', 'orbital_data.perihelion_argument',\n",
       "       'orbital_data.aphelion_distance', 'orbital_data.perihelion_time',\n",
       "       'orbital_data.mean_anomaly', 'orbital_data.mean_motion',\n",
       "       'orbital_data.equinox', 'orbital_data.orbit_class.orbit_class_type',\n",
       "       'orbital_data.orbit_class.orbit_class_description',\n",
       "       'orbital_data.orbit_class.orbit_class_range'],\n",
       "      dtype='object')"
      ]
     },
     "execution_count": 11,
     "metadata": {},
     "output_type": "execute_result"
    }
   ],
   "source": [
    "df.columns"
   ]
  },
  {
   "cell_type": "code",
   "execution_count": 12,
   "metadata": {},
   "outputs": [
    {
     "data": {
      "text/plain": [
       "<AxesSubplot:>"
      ]
     },
     "execution_count": 12,
     "metadata": {},
     "output_type": "execute_result"
    },
    {
     "data": {
      "image/png": "[encoded data removed]",
      "text/plain": [
       "<Figure size 432x288 with 1 Axes>"
      ]
     },
     "metadata": {
      "needs_background": "light"
     },
     "output_type": "display_data"
    }
   ],
   "source": [
    "df['estimated_diameter.kilometers.estimated_diameter_min'].hist()"
   ]
  },
  {
   "cell_type": "code",
   "execution_count": 13,
   "metadata": {},
   "outputs": [],
   "source": [
    "import requests\n",
    "import pandas as pd"
   ]
  },
  {
   "cell_type": "code",
   "execution_count": 14,
   "metadata": {},
   "outputs": [
    {
     "data": {
      "text/plain": [
       "200"
      ]
     },
     "execution_count": 14,
     "metadata": {},
     "output_type": "execute_result"
    }
   ],
   "source": [
    "url = 'https://en.wikipedia.org/w/api.php?action=query&format=json&titles=Xoloitzcuintle&prop=extracts'\n",
    "\n",
    "request_wiki = requests.get(url)\n",
    "\n",
    "request_wiki.status_code\n",
    "\n"
   ]
  },
  {
   "cell_type": "code",
   "execution_count": 15,
   "metadata": {},
   "outputs": [
    {
     "data": {
      "text/plain": [
       "dict_keys(['batchcomplete', 'warnings', 'query'])"
      ]
     },
     "execution_count": 15,
     "metadata": {},
     "output_type": "execute_result"
    }
   ],
   "source": [
    "request_wiki.json().keys()"
   ]
  },
  {
   "cell_type": "code",
   "execution_count": 16,
   "metadata": {},
   "outputs": [
    {
     "data": {
      "text/plain": [
       "dict_keys(['pages'])"
      ]
     },
     "execution_count": 16,
     "metadata": {},
     "output_type": "execute_result"
    }
   ],
   "source": [
    "request_wiki.json()['query'].keys()"
   ]
  },
  {
   "cell_type": "code",
   "execution_count": 17,
   "metadata": {},
   "outputs": [
    {
     "data": {
      "text/plain": [
       "dict_keys(['243549'])"
      ]
     },
     "execution_count": 17,
     "metadata": {},
     "output_type": "execute_result"
    }
   ],
   "source": [
    "request_wiki.json()['query']['pages'].keys()"
   ]
  },
  {
   "cell_type": "code",
   "execution_count": 18,
   "metadata": {},
   "outputs": [
    {
     "data": {
      "text/plain": [
       "dict_keys(['pageid', 'ns', 'title', 'extract'])"
      ]
     },
     "execution_count": 18,
     "metadata": {},
     "output_type": "execute_result"
    }
   ],
   "source": [
    "request_wiki.json()['query']['pages']['243549'].keys()"
   ]
  },
  {
   "cell_type": "code",
   "execution_count": 19,
   "metadata": {},
   "outputs": [],
   "source": [
    "df = pd.json_normalize(request_wiki.json()['query'])"
   ]
  },
  {
   "cell_type": "code",
   "execution_count": 20,
   "metadata": {},
   "outputs": [
    {
     "data": {
      "text/html": [
       "<div>\n",
       "<style scoped>\n",
       "    .dataframe tbody tr th:only-of-type {\n",
       "        vertical-align: middle;\n",
       "    }\n",
       "\n",
       "    .dataframe tbody tr th {\n",
       "        vertical-align: top;\n",
       "    }\n",
       "\n",
       "    .dataframe thead th {\n",
       "        text-align: right;\n",
       "    }\n",
       "</style>\n",
       "<table border=\"1\" class=\"dataframe\">\n",
       "  <thead>\n",
       "    <tr style=\"text-align: right;\">\n",
       "      <th></th>\n",
       "      <th>pageid</th>\n",
       "      <th>ns</th>\n",
       "      <th>title</th>\n",
       "      <th>extract</th>\n",
       "    </tr>\n",
       "  </thead>\n",
       "  <tbody>\n",
       "    <tr>\n",
       "      <th>0</th>\n",
       "      <td>243549</td>\n",
       "      <td>0</td>\n",
       "      <td>Xoloitzcuintle</td>\n",
       "      <td>&lt;p&gt;The &lt;b&gt;Xoloitzcuintle&lt;/b&gt; (or &lt;b&gt;Xoloitzqui...</td>\n",
       "    </tr>\n",
       "  </tbody>\n",
       "</table>\n",
       "</div>"
      ],
      "text/plain": [
       "   pageid  ns           title  \\\n",
       "0  243549   0  Xoloitzcuintle   \n",
       "\n",
       "                                             extract  \n",
       "0  <p>The <b>Xoloitzcuintle</b> (or <b>Xoloitzqui...  "
      ]
     },
     "execution_count": 20,
     "metadata": {},
     "output_type": "execute_result"
    }
   ],
   "source": [
    "df = pd.json_normalize(request_wiki.json()['query']['pages']['243549'])\n",
    "df"
   ]
  },
  {
   "cell_type": "code",
   "execution_count": 21,
   "metadata": {},
   "outputs": [
    {
     "data": {
      "text/plain": [
       "200"
      ]
     },
     "execution_count": 21,
     "metadata": {},
     "output_type": "execute_result"
    }
   ],
   "source": [
    "buscar_titulo = 'Xoloitzcuintle'\n",
    " \n",
    "#endpoint = 'https://es.wikipedia.org/w/api.php'\n",
    "endpoint = 'https://en.wikipedia.org/w/api.php'\n",
    "\n",
    "params = {\n",
    "            'action' : 'query',\n",
    "            'format' : 'json',\n",
    "            'titles' : buscar_titulo, \n",
    "            'prop' : 'extracts'\n",
    "        }\n",
    "\n",
    "request2_wiki = requests.get(endpoint, params=params)\n",
    "\n",
    "request2_wiki.status_code"
   ]
  },
  {
   "cell_type": "code",
   "execution_count": 22,
   "metadata": {},
   "outputs": [],
   "source": [
    "df = pd.json_normalize(request2_wiki.json()['query'])\n",
    "#df['pages.243549.extract'][0]"
   ]
  },
  {
   "cell_type": "code",
   "execution_count": 23,
   "metadata": {},
   "outputs": [
    {
     "data": {
      "text/plain": [
       "200"
      ]
     },
     "execution_count": 23,
     "metadata": {},
     "output_type": "execute_result"
    }
   ],
   "source": [
    "buscar_titulo = 'Xoloitzcuintle'\n",
    " \n",
    "#endpoint = 'https://es.wikipedia.org/w/api.php'\n",
    "endpoint = 'https://en.wikipedia.org/w/api.php'\n",
    "\n",
    "\n",
    "params = {\n",
    "            'action' : 'query',\n",
    "            'format' : 'json',\n",
    "            'titles' : buscar_titulo, \n",
    "            'prop' : 'extracts',\n",
    "            'exintro': True,\n",
    "            'explaintext': True\n",
    "        }\n",
    "\n",
    "request3_wiki = requests.get(endpoint, params=params)\n",
    "\n",
    "request3_wiki.status_code"
   ]
  },
  {
   "cell_type": "code",
   "execution_count": 24,
   "metadata": {},
   "outputs": [],
   "source": [
    "df = pd.json_normalize(request3_wiki.json()['query'])\n",
    "resumen_xolo = df['pages.243549.extract'][0]"
   ]
  },
  {
   "cell_type": "code",
   "execution_count": 25,
   "metadata": {},
   "outputs": [
    {
     "data": {
      "text/html": [
       "<div>\n",
       "<style scoped>\n",
       "    .dataframe tbody tr th:only-of-type {\n",
       "        vertical-align: middle;\n",
       "    }\n",
       "\n",
       "    .dataframe tbody tr th {\n",
       "        vertical-align: top;\n",
       "    }\n",
       "\n",
       "    .dataframe thead th {\n",
       "        text-align: right;\n",
       "    }\n",
       "</style>\n",
       "<table border=\"1\" class=\"dataframe\">\n",
       "  <thead>\n",
       "    <tr style=\"text-align: right;\">\n",
       "      <th></th>\n",
       "      <th>pages.243549.pageid</th>\n",
       "      <th>pages.243549.ns</th>\n",
       "      <th>pages.243549.title</th>\n",
       "      <th>pages.243549.extract</th>\n",
       "    </tr>\n",
       "  </thead>\n",
       "  <tbody>\n",
       "    <tr>\n",
       "      <th>0</th>\n",
       "      <td>243549</td>\n",
       "      <td>0</td>\n",
       "      <td>Xoloitzcuintle</td>\n",
       "      <td>The Xoloitzcuintle (or Xoloitzquintle, Xoloitz...</td>\n",
       "    </tr>\n",
       "  </tbody>\n",
       "</table>\n",
       "</div>"
      ],
      "text/plain": [
       "   pages.243549.pageid  pages.243549.ns pages.243549.title  \\\n",
       "0               243549                0     Xoloitzcuintle   \n",
       "\n",
       "                                pages.243549.extract  \n",
       "0  The Xoloitzcuintle (or Xoloitzquintle, Xoloitz...  "
      ]
     },
     "execution_count": 25,
     "metadata": {},
     "output_type": "execute_result"
    }
   ],
   "source": [
    "df"
   ]
  },
  {
   "cell_type": "code",
   "execution_count": 26,
   "metadata": {},
   "outputs": [
    {
     "data": {
      "text/plain": [
       "\"The Xoloitzcuintle (or Xoloitzquintle, Xoloitzcuintli, or Xolo) is one of several breeds of hairless dog. It is found in standard, intermediate, and miniature sizes. The Xolo also comes in a coated variety, totally covered in fur. Coated and hairless can be born in the same litter as a result of the same combination of genes. The hairless variant is known as the Perro pelón mexicano or Mexican hairless dog. It is characterized by its duality, wrinkles, and dental abnormalities, along with a primitive temper. In Nahuatl, from which its name originates, it is xōlōitzcuintli [ʃoːloːit͡sˈkʷint͡ɬi] (singular) and xōlōitzcuintin [ʃoːloːit͡sˈkʷintin] (plural). The name comes from the god Xolotl that, according to ancient narratives, is its creator and itzcuīntli [it͡sˈkʷiːnt͡ɬi], meaning 'dog' in the Nahuatl language.\\n\\n\""
      ]
     },
     "execution_count": 26,
     "metadata": {},
     "output_type": "execute_result"
    }
   ],
   "source": [
    "resumen_xolo"
   ]
  },
  {
   "cell_type": "code",
   "execution_count": 27,
   "metadata": {},
   "outputs": [
    {
     "data": {
      "text/plain": [
       "200"
      ]
     },
     "execution_count": 27,
     "metadata": {},
     "output_type": "execute_result"
    }
   ],
   "source": [
    "buscar_en_titulo = 'Leon'\n",
    " \n",
    "endpoint = 'https://es.wikipedia.org/w/api.php'\n",
    "\n",
    "params = {\n",
    "            'action' : 'query',\n",
    "            'format' : 'json',\n",
    "            'list':'search',\n",
    "            'srsearch' : buscar_en_titulo\n",
    "        }\n",
    "\n",
    "request4_wiki = requests.get(endpoint, params=params)\n",
    "\n",
    "request4_wiki.status_code"
   ]
  },
  {
   "cell_type": "code",
   "execution_count": 28,
   "metadata": {},
   "outputs": [
    {
     "data": {
      "text/html": [
       "<div>\n",
       "<style scoped>\n",
       "    .dataframe tbody tr th:only-of-type {\n",
       "        vertical-align: middle;\n",
       "    }\n",
       "\n",
       "    .dataframe tbody tr th {\n",
       "        vertical-align: top;\n",
       "    }\n",
       "\n",
       "    .dataframe thead th {\n",
       "        text-align: right;\n",
       "    }\n",
       "</style>\n",
       "<table border=\"1\" class=\"dataframe\">\n",
       "  <thead>\n",
       "    <tr style=\"text-align: right;\">\n",
       "      <th></th>\n",
       "      <th>ns</th>\n",
       "      <th>title</th>\n",
       "      <th>pageid</th>\n",
       "      <th>size</th>\n",
       "      <th>wordcount</th>\n",
       "      <th>snippet</th>\n",
       "      <th>timestamp</th>\n",
       "    </tr>\n",
       "  </thead>\n",
       "  <tbody>\n",
       "    <tr>\n",
       "      <th>0</th>\n",
       "      <td>0</td>\n",
       "      <td>Panthera leo</td>\n",
       "      <td>25116</td>\n",
       "      <td>146793</td>\n",
       "      <td>17903</td>\n",
       "      <td>El &lt;span class=\"searchmatch\"&gt;león&lt;/span&gt; (Pant...</td>\n",
       "      <td>2023-05-13T12:36:09Z</td>\n",
       "    </tr>\n",
       "    <tr>\n",
       "      <th>1</th>\n",
       "      <td>0</td>\n",
       "      <td>LEON</td>\n",
       "      <td>766618</td>\n",
       "      <td>1824</td>\n",
       "      <td>161</td>\n",
       "      <td>&lt;span class=\"searchmatch\"&gt;LEON&lt;/span&gt; es un nú...</td>\n",
       "      <td>2022-12-13T14:18:14Z</td>\n",
       "    </tr>\n",
       "    <tr>\n",
       "      <th>2</th>\n",
       "      <td>0</td>\n",
       "      <td>Léon</td>\n",
       "      <td>232172</td>\n",
       "      <td>31324</td>\n",
       "      <td>3716</td>\n",
       "      <td>&lt;span class=\"searchmatch\"&gt;Léon&lt;/span&gt;, también...</td>\n",
       "      <td>2023-03-04T18:05:25Z</td>\n",
       "    </tr>\n",
       "    <tr>\n",
       "      <th>3</th>\n",
       "      <td>0</td>\n",
       "      <td>León (España)</td>\n",
       "      <td>3341</td>\n",
       "      <td>233782</td>\n",
       "      <td>25540</td>\n",
       "      <td>&lt;span class=\"searchmatch\"&gt;León&lt;/span&gt; (en &lt;spa...</td>\n",
       "      <td>2023-04-26T19:37:44Z</td>\n",
       "    </tr>\n",
       "    <tr>\n",
       "      <th>4</th>\n",
       "      <td>0</td>\n",
       "      <td>León (heráldica)</td>\n",
       "      <td>1743552</td>\n",
       "      <td>18355</td>\n",
       "      <td>949</td>\n",
       "      <td>En Heráldica el &lt;span class=\"searchmatch\"&gt;León...</td>\n",
       "      <td>2023-05-01T17:22:17Z</td>\n",
       "    </tr>\n",
       "    <tr>\n",
       "      <th>5</th>\n",
       "      <td>0</td>\n",
       "      <td>Castilla y León</td>\n",
       "      <td>485</td>\n",
       "      <td>193791</td>\n",
       "      <td>20392</td>\n",
       "      <td>Castilla y &lt;span class=\"searchmatch\"&gt;León&lt;/spa...</td>\n",
       "      <td>2023-05-07T07:47:36Z</td>\n",
       "    </tr>\n",
       "    <tr>\n",
       "      <th>6</th>\n",
       "      <td>0</td>\n",
       "      <td>Nuevo León</td>\n",
       "      <td>25593</td>\n",
       "      <td>119632</td>\n",
       "      <td>9564</td>\n",
       "      <td>Nuevo &lt;span class=\"searchmatch\"&gt;León&lt;/span&gt; ( ...</td>\n",
       "      <td>2023-04-25T03:30:11Z</td>\n",
       "    </tr>\n",
       "    <tr>\n",
       "      <th>7</th>\n",
       "      <td>0</td>\n",
       "      <td>Provincia de León</td>\n",
       "      <td>23530</td>\n",
       "      <td>161746</td>\n",
       "      <td>16488</td>\n",
       "      <td>&lt;span class=\"searchmatch\"&gt;León&lt;/span&gt; (en &lt;spa...</td>\n",
       "      <td>2023-04-08T08:59:03Z</td>\n",
       "    </tr>\n",
       "    <tr>\n",
       "      <th>8</th>\n",
       "      <td>0</td>\n",
       "      <td>Reino de León</td>\n",
       "      <td>41339</td>\n",
       "      <td>32095</td>\n",
       "      <td>3709</td>\n",
       "      <td>El reino de &lt;span class=\"searchmatch\"&gt;León&lt;/sp...</td>\n",
       "      <td>2023-04-27T03:14:13Z</td>\n",
       "    </tr>\n",
       "    <tr>\n",
       "      <th>9</th>\n",
       "      <td>0</td>\n",
       "      <td>León de Los Aldama</td>\n",
       "      <td>66887</td>\n",
       "      <td>162208</td>\n",
       "      <td>20499</td>\n",
       "      <td>&lt;span class=\"searchmatch\"&gt;León&lt;/span&gt; de los A...</td>\n",
       "      <td>2023-04-26T14:12:31Z</td>\n",
       "    </tr>\n",
       "  </tbody>\n",
       "</table>\n",
       "</div>"
      ],
      "text/plain": [
       "   ns               title   pageid    size  wordcount  \\\n",
       "0   0        Panthera leo    25116  146793      17903   \n",
       "1   0                LEON   766618    1824        161   \n",
       "2   0                Léon   232172   31324       3716   \n",
       "3   0       León (España)     3341  233782      25540   \n",
       "4   0    León (heráldica)  1743552   18355        949   \n",
       "5   0     Castilla y León      485  193791      20392   \n",
       "6   0          Nuevo León    25593  119632       9564   \n",
       "7   0   Provincia de León    23530  161746      16488   \n",
       "8   0       Reino de León    41339   32095       3709   \n",
       "9   0  León de Los Aldama    66887  162208      20499   \n",
       "\n",
       "                                             snippet             timestamp  \n",
       "0  El <span class=\"searchmatch\">león</span> (Pant...  2023-05-13T12:36:09Z  \n",
       "1  <span class=\"searchmatch\">LEON</span> es un nú...  2022-12-13T14:18:14Z  \n",
       "2  <span class=\"searchmatch\">Léon</span>, también...  2023-03-04T18:05:25Z  \n",
       "3  <span class=\"searchmatch\">León</span> (en <spa...  2023-04-26T19:37:44Z  \n",
       "4  En Heráldica el <span class=\"searchmatch\">León...  2023-05-01T17:22:17Z  \n",
       "5  Castilla y <span class=\"searchmatch\">León</spa...  2023-05-07T07:47:36Z  \n",
       "6  Nuevo <span class=\"searchmatch\">León</span> ( ...  2023-04-25T03:30:11Z  \n",
       "7  <span class=\"searchmatch\">León</span> (en <spa...  2023-04-08T08:59:03Z  \n",
       "8  El reino de <span class=\"searchmatch\">León</sp...  2023-04-27T03:14:13Z  \n",
       "9  <span class=\"searchmatch\">León</span> de los A...  2023-04-26T14:12:31Z  "
      ]
     },
     "execution_count": 28,
     "metadata": {},
     "output_type": "execute_result"
    }
   ],
   "source": [
    "df = pd.json_normalize(request4_wiki.json()['query']['search'])\n",
    "df"
   ]
  },
  {
   "cell_type": "code",
   "execution_count": 86,
   "metadata": {},
   "outputs": [
    {
     "data": {
      "text/plain": [
       "200"
      ]
     },
     "execution_count": 86,
     "metadata": {},
     "output_type": "execute_result"
    }
   ],
   "source": [
    "buscar_en_titulo = 'Leon'\n",
    " \n",
    "endpoint = 'https://es.wikipedia.org/w/api.php'\n",
    "\n",
    "params = {\n",
    "            'action' : 'query',\n",
    "            'format' : 'json',\n",
    "            'srsearch': buscar_en_titulo,\n",
    "            'pageid' : '146793',\n",
    "            'list':'search',\n",
    "            'prop' : 'extracts',\n",
    "            'exintro': True,\n",
    "            'explaintext': True\n",
    "        }\n",
    "\n",
    "request4_wiki = requests.get(endpoint, params=params)\n",
    "\n",
    "request4_wiki.status_code"
   ]
  },
  {
   "cell_type": "code",
   "execution_count": 87,
   "metadata": {
    "scrolled": true
   },
   "outputs": [
    {
     "data": {
      "text/html": [
       "<div>\n",
       "<style scoped>\n",
       "    .dataframe tbody tr th:only-of-type {\n",
       "        vertical-align: middle;\n",
       "    }\n",
       "\n",
       "    .dataframe tbody tr th {\n",
       "        vertical-align: top;\n",
       "    }\n",
       "\n",
       "    .dataframe thead th {\n",
       "        text-align: right;\n",
       "    }\n",
       "</style>\n",
       "<table border=\"1\" class=\"dataframe\">\n",
       "  <thead>\n",
       "    <tr style=\"text-align: right;\">\n",
       "      <th></th>\n",
       "      <th>ns</th>\n",
       "      <th>title</th>\n",
       "      <th>pageid</th>\n",
       "      <th>size</th>\n",
       "      <th>wordcount</th>\n",
       "      <th>snippet</th>\n",
       "      <th>timestamp</th>\n",
       "    </tr>\n",
       "  </thead>\n",
       "  <tbody>\n",
       "    <tr>\n",
       "      <th>0</th>\n",
       "      <td>0</td>\n",
       "      <td>Panthera leo</td>\n",
       "      <td>25116</td>\n",
       "      <td>146793</td>\n",
       "      <td>17903</td>\n",
       "      <td>El &lt;span class=\"searchmatch\"&gt;león&lt;/span&gt; (Pant...</td>\n",
       "      <td>2023-04-25T08:50:13Z</td>\n",
       "    </tr>\n",
       "    <tr>\n",
       "      <th>1</th>\n",
       "      <td>0</td>\n",
       "      <td>LEON</td>\n",
       "      <td>766618</td>\n",
       "      <td>1824</td>\n",
       "      <td>161</td>\n",
       "      <td>&lt;span class=\"searchmatch\"&gt;LEON&lt;/span&gt; es un nú...</td>\n",
       "      <td>2022-12-13T14:18:14Z</td>\n",
       "    </tr>\n",
       "    <tr>\n",
       "      <th>2</th>\n",
       "      <td>0</td>\n",
       "      <td>Léon</td>\n",
       "      <td>232172</td>\n",
       "      <td>31324</td>\n",
       "      <td>3716</td>\n",
       "      <td>&lt;span class=\"searchmatch\"&gt;Léon&lt;/span&gt;, también...</td>\n",
       "      <td>2023-03-04T18:05:25Z</td>\n",
       "    </tr>\n",
       "    <tr>\n",
       "      <th>3</th>\n",
       "      <td>0</td>\n",
       "      <td>León (España)</td>\n",
       "      <td>3341</td>\n",
       "      <td>233782</td>\n",
       "      <td>25540</td>\n",
       "      <td>&lt;span class=\"searchmatch\"&gt;León&lt;/span&gt; (en &lt;spa...</td>\n",
       "      <td>2023-04-26T19:37:44Z</td>\n",
       "    </tr>\n",
       "    <tr>\n",
       "      <th>4</th>\n",
       "      <td>0</td>\n",
       "      <td>Castilla y León</td>\n",
       "      <td>485</td>\n",
       "      <td>194246</td>\n",
       "      <td>20428</td>\n",
       "      <td>Castilla y &lt;span class=\"searchmatch\"&gt;León&lt;/spa...</td>\n",
       "      <td>2023-04-29T10:02:47Z</td>\n",
       "    </tr>\n",
       "    <tr>\n",
       "      <th>5</th>\n",
       "      <td>0</td>\n",
       "      <td>Nuevo León</td>\n",
       "      <td>25593</td>\n",
       "      <td>119632</td>\n",
       "      <td>9564</td>\n",
       "      <td>Nuevo &lt;span class=\"searchmatch\"&gt;León&lt;/span&gt; ( ...</td>\n",
       "      <td>2023-04-25T03:30:11Z</td>\n",
       "    </tr>\n",
       "    <tr>\n",
       "      <th>6</th>\n",
       "      <td>0</td>\n",
       "      <td>León (heráldica)</td>\n",
       "      <td>1743552</td>\n",
       "      <td>18355</td>\n",
       "      <td>949</td>\n",
       "      <td>En Heráldica el &lt;span class=\"searchmatch\"&gt;León...</td>\n",
       "      <td>2023-05-01T17:22:17Z</td>\n",
       "    </tr>\n",
       "    <tr>\n",
       "      <th>7</th>\n",
       "      <td>0</td>\n",
       "      <td>Reino de León</td>\n",
       "      <td>41339</td>\n",
       "      <td>32095</td>\n",
       "      <td>3709</td>\n",
       "      <td>El reino de &lt;span class=\"searchmatch\"&gt;León&lt;/sp...</td>\n",
       "      <td>2023-04-27T03:14:13Z</td>\n",
       "    </tr>\n",
       "    <tr>\n",
       "      <th>8</th>\n",
       "      <td>0</td>\n",
       "      <td>Provincia de León</td>\n",
       "      <td>23530</td>\n",
       "      <td>161746</td>\n",
       "      <td>16488</td>\n",
       "      <td>&lt;span class=\"searchmatch\"&gt;León&lt;/span&gt; (en &lt;spa...</td>\n",
       "      <td>2023-04-08T08:59:03Z</td>\n",
       "    </tr>\n",
       "    <tr>\n",
       "      <th>9</th>\n",
       "      <td>0</td>\n",
       "      <td>León de Los Aldama</td>\n",
       "      <td>66887</td>\n",
       "      <td>162208</td>\n",
       "      <td>20499</td>\n",
       "      <td>&lt;span class=\"searchmatch\"&gt;León&lt;/span&gt; de los A...</td>\n",
       "      <td>2023-04-26T14:12:31Z</td>\n",
       "    </tr>\n",
       "  </tbody>\n",
       "</table>\n",
       "</div>"
      ],
      "text/plain": [
       "   ns               title   pageid    size  wordcount  \\\n",
       "0   0        Panthera leo    25116  146793      17903   \n",
       "1   0                LEON   766618    1824        161   \n",
       "2   0                Léon   232172   31324       3716   \n",
       "3   0       León (España)     3341  233782      25540   \n",
       "4   0     Castilla y León      485  194246      20428   \n",
       "5   0          Nuevo León    25593  119632       9564   \n",
       "6   0    León (heráldica)  1743552   18355        949   \n",
       "7   0       Reino de León    41339   32095       3709   \n",
       "8   0   Provincia de León    23530  161746      16488   \n",
       "9   0  León de Los Aldama    66887  162208      20499   \n",
       "\n",
       "                                             snippet             timestamp  \n",
       "0  El <span class=\"searchmatch\">león</span> (Pant...  2023-04-25T08:50:13Z  \n",
       "1  <span class=\"searchmatch\">LEON</span> es un nú...  2022-12-13T14:18:14Z  \n",
       "2  <span class=\"searchmatch\">Léon</span>, también...  2023-03-04T18:05:25Z  \n",
       "3  <span class=\"searchmatch\">León</span> (en <spa...  2023-04-26T19:37:44Z  \n",
       "4  Castilla y <span class=\"searchmatch\">León</spa...  2023-04-29T10:02:47Z  \n",
       "5  Nuevo <span class=\"searchmatch\">León</span> ( ...  2023-04-25T03:30:11Z  \n",
       "6  En Heráldica el <span class=\"searchmatch\">León...  2023-05-01T17:22:17Z  \n",
       "7  El reino de <span class=\"searchmatch\">León</sp...  2023-04-27T03:14:13Z  \n",
       "8  <span class=\"searchmatch\">León</span> (en <spa...  2023-04-08T08:59:03Z  \n",
       "9  <span class=\"searchmatch\">León</span> de los A...  2023-04-26T14:12:31Z  "
      ]
     },
     "execution_count": 87,
     "metadata": {},
     "output_type": "execute_result"
    }
   ],
   "source": [
    "df = pd.json_normalize(request4_wiki.json()['query']['search'])\n",
    "df"
   ]
  },
  {
   "cell_type": "code",
   "execution_count": 79,
   "metadata": {},
   "outputs": [],
   "source": [
    "resumen = []\n",
    "for i in df['snippet']:\n",
    "    resumen.append(i)\n"
   ]
  },
  {
   "cell_type": "code",
   "execution_count": 83,
   "metadata": {},
   "outputs": [
    {
     "data": {
      "text/plain": [
       "'<span class=\"searchmatch\">León</span> (en <span class=\"searchmatch\">leonés</span>, Llión)[7]\\u200b es un municipio[8]\\u200b y ciudad española en el noroeste de la península ibérica, capital de la provincia homónima, en la comunidad'"
      ]
     },
     "execution_count": 83,
     "metadata": {},
     "output_type": "execute_result"
    }
   ],
   "source": [
    "resumen[3]"
   ]
  },
  {
   "cell_type": "code",
   "execution_count": 29,
   "metadata": {},
   "outputs": [
    {
     "name": "stdout",
     "output_type": "stream",
     "text": [
      "Collecting wikipedia==1.4.0\n",
      "  Downloading wikipedia-1.4.0.tar.gz (27 kB)\n",
      "Requirement already satisfied: beautifulsoup4 in c:\\users\\yael_\\anaconda3\\lib\\site-packages (from wikipedia==1.4.0) (4.9.3)\n",
      "Requirement already satisfied: requests<3.0.0,>=2.0.0 in c:\\users\\yael_\\anaconda3\\lib\\site-packages (from wikipedia==1.4.0) (2.24.0)\n",
      "Requirement already satisfied: soupsieve>1.2; python_version >= \"3.0\" in c:\\users\\yael_\\anaconda3\\lib\\site-packages (from beautifulsoup4->wikipedia==1.4.0) (2.0.1)\n",
      "Requirement already satisfied: idna<3,>=2.5 in c:\\users\\yael_\\anaconda3\\lib\\site-packages (from requests<3.0.0,>=2.0.0->wikipedia==1.4.0) (2.10)\n",
      "Requirement already satisfied: urllib3!=1.25.0,!=1.25.1,<1.26,>=1.21.1 in c:\\users\\yael_\\anaconda3\\lib\\site-packages (from requests<3.0.0,>=2.0.0->wikipedia==1.4.0) (1.25.11)\n",
      "Requirement already satisfied: chardet<4,>=3.0.2 in c:\\users\\yael_\\anaconda3\\lib\\site-packages (from requests<3.0.0,>=2.0.0->wikipedia==1.4.0) (3.0.4)\n",
      "Requirement already satisfied: certifi>=2017.4.17 in c:\\users\\yael_\\anaconda3\\lib\\site-packages (from requests<3.0.0,>=2.0.0->wikipedia==1.4.0) (2020.6.20)\n",
      "Building wheels for collected packages: wikipedia\n",
      "  Building wheel for wikipedia (setup.py): started\n",
      "  Building wheel for wikipedia (setup.py): finished with status 'done'\n",
      "  Created wheel for wikipedia: filename=wikipedia-1.4.0-py3-none-any.whl size=11689 sha256=8d2cbcb7c5da2aae3b41c929c339ee73ec1ab674ee8f33412b4c2aac057ec9b5\n",
      "  Stored in directory: c:\\users\\yael_\\appdata\\local\\pip\\cache\\wheels\\07\\93\\05\\72c05349177dca2e0ba31a33ba4f7907606f7ddef303517c6a\n",
      "Successfully built wikipedia\n",
      "Installing collected packages: wikipedia\n",
      "Successfully installed wikipedia-1.4.0\n",
      "Note: you may need to restart the kernel to use updated packages.\n"
     ]
    }
   ],
   "source": [
    "pip install wikipedia==1.4.0"
   ]
  },
  {
   "cell_type": "code",
   "execution_count": 30,
   "metadata": {},
   "outputs": [
    {
     "name": "stderr",
     "output_type": "stream",
     "text": [
      "C:\\Users\\yael_\\anaconda3\\lib\\site-packages\\wikipedia\\wikipedia.py:389: GuessedAtParserWarning: No parser was explicitly specified, so I'm using the best available HTML parser for this system (\"lxml\"). This usually isn't a problem, but if you run this code on another system, or in a different virtual environment, it may use a different parser and behave differently.\n",
      "\n",
      "The code that caused this warning is on line 389 of the file C:\\Users\\yael_\\anaconda3\\lib\\site-packages\\wikipedia\\wikipedia.py. To get rid of this warning, pass the additional argument 'features=\"lxml\"' to the BeautifulSoup constructor.\n",
      "\n",
      "  lis = BeautifulSoup(html).find_all('li')\n"
     ]
    },
    {
     "name": "stdout",
     "output_type": "stream",
     "text": [
      "Vance Astro, born Vance Astrovik and going by the code name Major Victory, is a superhero appearing in American comic books published by Marvel Comics. The character is usually depicted as being from the Earth-691 timeline of the Marvel Universe.\n",
      "Astro first appeared in January 1969 as a founding member of the Guardians of the Galaxy in the partial reprint title Marvel Super-Heroes with issue #18.Vance Astro is a mutant who possesses a psychokinetic ability, limited to projecting concussive blasts.\n",
      "------------------------------------\n",
      "ASTRO 25 is the next generation of ASTRO digital two-way radio communications by Motorola Solutions.  Motorola first introduced digital two-way radio in the U.S. in 1991 under the name ASTRO Digital Solutions.With the completion of the APCO Project 25 standard, Motorola introduced the ASTRO 25 solution and migrated its ASTRO Digital Solutions customers to ASTRO 25. Project 25 (also known as P25) is a suite of standards for digital radio communications that is designed specifically for law enforcement, fire and medical services to communicate with each other during emergency situations.ASTRO 25 is now the most widely used P25 mission critical voice and data communication network in the world. It is designed to provide reliable and always available communication for public safety agencies.The Original ASTRO 25 format utilizes APCO Project 25 Phase I technology (FDMA). It is the most used format of the ASTRO 25 family of radio systems.\n",
      "The ASTRO 25  Phase II system, which complies with the P25 Phase II standard, uses TDMA technology to deliver both voice and data messaging over a single wireless communications infrastructure. Because ASTRO 25 Phase II is a P25 TDMA system, it offers greater spectrum efficiency, lower equipment costs, advanced radio features and flexibility, and longer battery life. The ASTRO 25 network also ensures encryption key assignment over the system's radio channels and enhanced network security tools.The ASTRO 25 digital radio system is claimed to provide superior audio quality and advanced features which comply with the Federal Communications Commission's narrowbanding requirements. ASTRO 25 currently operates in the 700 MHz, 800 MHz, 900 MHz, UHF and VHF bands for voice and data operation.\n",
      "\n",
      "\n",
      "------------------------------------\n",
      "Astro (Korean: 아스트로; stylized in all caps) is a South Korean boy band formed by Fantagio. The group is composed of four members: MJ, Jinjin, Cha Eun-woo, and Yoon San-ha. Originally a six-piece group, Rocky departed from the group on February 28, 2023, and Moonbin died on April 19, 2023. They debuted on February 23, 2016, with the extended play Spring Up and were subsequently named as one of the best new K-pop acts of 2016 by Billboard.\n",
      "------------------------------------\n",
      "All-Asian Satellite Television and Radio Operator, doing business as Astro, is a Malaysian satellite television and IPTV provider. It operates in Malaysia and Brunei and operates from the All Asia Broadcast Centre (AABC) in Kuala Lumpur and MEASAT in Cyberjaya. In 2016, the company was recorded as achieving 71% household penetration in Malaysia. It was granted an exclusive license as the sole pay-television provider by the Malaysian federal government until 2017. Astro is a wholly-owned subsidiary of Astro Malaysia Holdings Berhad and is operated by MEASAT Broadcast Network Systems Sdn. Bhd.\n",
      "Astro launched the high-definition platform Astro B.yond in 2009 and the IPTV platform Astro IPTV in 2011, with the latter targeted at consumers who were unable to receive the company's satellite services.Astro formerly operated in Indonesia from 2006 to 2008, under the Astro Nusantara brand and was operated by PT Direct Vision.\n",
      "------------------------------------\n",
      "Astro Boy is a 2009 computer-animated superhero film loosely based on the manga series of the same name by the Japanese writer and illustrator Osamu Tezuka. Produced by the Hong Kong-based company Imagi Animation Studios, it was directed by David Bowers, who co-wrote the screenplay with Timothy Hyde Harris. The film stars Freddie Highmore, Kristen Bell, Nathan Lane, Eugene Levy, Matt Lucas, Bill Nighy, Samuel L. Jackson, Donald Sutherland, Charlize Theron, and Nicolas Cage. In the film, Dr. Tenma (Cage) creates Astro (Highmore), a teenage robot implanted with Toby's memories after the death of Tenma's son. The pair face Stone (Sutherland), the president of Metro City who is running for re-election, for their betrayal.\n",
      "The film was first released in Hong Kong on October 8, 2009, and in the United States on October 23, 2009. It received generally mixed reviews from film critics and was a financial failure, earning $42 million worldwide against its $65 million budget. As a result of the film's poor performance, Imagi  was shut down on February 5, 2010, and Astro Boy became the final film produced by the studio.\n",
      "------------------------------------\n",
      "Astro hitz, formerly known as HITZ.TV was a Malaysian music video channel provided by Astro. It made its debut on 20 October 2003 and serves as a visual entertainment complement of hitz.fm, which is under Astro's radio management arm, AMP Radio Networks (now Astro Radio). Before the channel renumbering on 1 October 2007, the channel broadcasts on channel 16, while broadcasting on channel 705 when the channel renumbering takes effect.\n",
      "The channel relaunched with its new name in April 2009.\n",
      "MeleTOP are selected on Astro Ria and Astro Maya HD also aired on Astro hitz for repeat on Wednesday.\n",
      "Due to declining popularity of the channel and after 13 years of broadcasting, Astro hitz ceased broadcasting on 16 May 2016.\n",
      "\n",
      "\n",
      "------------------------------------\n",
      "Astro Pops are transparent three-color cone-shaped lollipops sold by Leaf Brands. \n",
      "\n",
      "\n",
      "------------------------------------\n",
      "\"Man or Astro-man?\" is an American surf rock group that was formed in Auburn, Alabama in the early 1990s and came to prominence over the following decade.\n",
      "Primarily instrumental, \"Man or Astro-man?\" blended the surf rock style of the early 1960s, like that of Dick Dale and The Spotnicks with the new wave and punk rock sounds of the late 1970s and early 1980s. \"Man or Astro-man?\" was known for their anachronistic dedication to science fiction themes, audio samples, obscure electronic devices (such as theremins and tesla coils), and high-energy live performances. Their earlier albums like Is It ... Man or Astroman? and Destroy All Astromen! were known for their traditional surf rock instrumentation and sci-fi sound bite song introductions, whereas their later albums like EEVIAC... and A Spectrum of Infinite Scale were known for their use of synthesizers, printers (like the Apple ImageWriter II), and their more abstract, experimental sound. Their recordings were often peppered with sound bites from obscure science fiction films and TV shows.\n",
      "It is largely believed that the group took its name from the poster of the U.S. release of the Japanese film The Human Vapor, which includes the tagline \"IS HE MAN OR ASTRO-MAN?\", the line seemingly appropriated as the title of their first album, Is It ... Man or Astroman?.\n",
      "------------------------------------\n",
      "Brian Vaughn Bradley Jr. (born September 27, 1996), better known by his stage names Astro, Stro, and the Astronomical Kid, is an American rapper, producer  and actor. He is known for being a contestant on the first season of The X Factor USA in 2011. Astro took the judges with his original song shot at Simon, for looking at his mom. His mentor was producer and label executive L.A. Reid. Astro was seventh place in the competition. After his appearance on The X Factor, he starred in an episode of Person of Interest. In 2014, he co-starred in the major films Earth to Echo and A Walk Among the Tombstones, and the Fox series Red Band Society.\n",
      "------------------------------------\n",
      "ASTRO Gaming is an American consumer electronics manufacturer specializing in video gaming headsets, peripherals, and accessories.\n",
      "------------------------------------\n",
      "Kurt Busiek's Astro City is an American superhero anthology comic book series centered on a fictional American city of that name. Created and written by Kurt Busiek, the series is mostly illustrated by Brent Anderson, with character designs and painted covers by Alex Ross.\n",
      "The first volume was published from 1995 to 1996 by Image Comics. In 1996, a second volume was launched under the Homage Comics imprint of Image partner studio WildStorm, which was then acquired by DC Comics, where the series later transitioned to the WildStorm Signature Series imprint and continued until 2010. During this period it switched from a regular ongoing series to a sequence of periodic mini-series and special issues. A third, ongoing volume was launched under DC's Vertigo imprint in 2013 and concluded in 2018, reverting to occasional miniseries and original graphic novels. Counting all series, mini-series and special issues, over 100 issues have been published.\n",
      "\n",
      "\n",
      "------------------------------------\n",
      "Amazon Astro, often shortened to Astro, is a home robot developed by Amazon.com, Inc. It was designed for home security monitoring, remote care of elderly relatives, and as a virtual assistant that can follow a person from room to room.\n",
      "\n",
      "\n",
      "------------------------------------\n",
      "Astro Lounge is the second studio album by American rock band Smash Mouth, released on June 8, 1999, by Interscope Records.\n",
      "It includes the single \"All Star\", arguably the group's most well-known song, which nearly topped the US Billboard Hot 100. Three other singles were released from the album, namely \"Waste\", \"Then the Morning Comes\", and a cover of \"Can't Get Enough of You Baby\".\n",
      "\n",
      "\n",
      "------------------------------------\n",
      "The Houston Astros are an American professional baseball team based in Houston, Texas. The Astros compete in Major League Baseball (MLB) as a member club of the American League (AL) West division, having moved to the division in 2013 after spending their first 51 seasons in the National League (NL).The Astros were established as the Houston Colt .45s and entered the National League as an expansion team in 1962 along with the New York Mets. The current name, reflecting Houston's role as the host of the Johnson Space Center, was adopted three years later, when they moved into the Astrodome, the first domed sports stadium and the so-called \"Eighth Wonder of the World.\" The Astros moved to a new stadium called Minute Maid Park in 2000. The Astros played in the NL West division from 1969 to 1993, then the NL Central division from 1994 to 2012, before being moved to the AL West as part of an MLB realignment in 2013.\n",
      "The Astros posted their first winning record in 1972 and made the playoffs for the first time in 1980, and they won three division titles in the 1980s. Spearheaded by the Killer B's, a collection of prominent hitters that included the Astros' only Hall of Fame members Craig Biggio and Jeff Bagwell, the Astros began reaching major prominence in the late 1990s and early 2000s with four further division titles and two Wild Card appearances, culminating in their first World Series appearance in 2005 where they were swept by the AL’s Chicago White Sox. After a major slump throughout the next decade, the team was purchased by business owner Jim Crane in 2011 for $680 million. Under Crane's ownership, the Astros embraced sabermetrics and pioneered new analytical technologies in their transition to the American League, and by the mid-2010s has transformed from a poor franchise into one of MLB's most dominant and successful clubs. Since then, the Astros have won over 100 games in four seasons, appeared in a record six consecutive American League Championship Series, and won four of the last six American League pennants. During this time, the Astros won the 2017 World Series, their first championship, against the Los Angeles Dodgers; they made later appearances in 2019 against the Washington Nationals, 2021 against the Atlanta Braves, and 2022 against the Philadelphia Phillies, winning their second title in the latter series. They are the only team to win a postseason series in six straight seasons. Their fifth pennant in 2022 made them the second team created in the expansion era to win five league pennants (after the Mets), and they are the fifth expansion team to have won two World championships.\n",
      "During the 2019–2020 off-season, the Astros became the prime suspect in an MLB-wide sign stealing scandal that took place during the 2017 and 2018 seasons, resulting in the suspensions of manager A. J. Hinch and general manager Jeff Luhnow, with Crane later firing both. The Astros' roles in the scandal, as well as what were believed to be minimal punishments for its players, have caused the Astros to become one of the most maligned baseball teams in the modern age. Despite this, many have noted the Astros' continued success, and they are widely seen as the most dominant team in the American League today.From 1962 through the end of the 2022 season, the Astros' all-time record is 4,831-4,820 (.501). In addition to having the most postseason appearances by an expansion team, they are the only expansion era team with an all-time winning record.\n",
      "------------------------------------\n"
     ]
    }
   ],
   "source": [
    "import wikipedia\n",
    "\n",
    "#Otra forma de hacerlo es usar el comando wikipedia.search, buscamos articulos que tengan palabra astro y nos limitamos a los primeros 20 resultados\n",
    "search_results = wikipedia.search('astro', results=20)\n",
    "\n",
    "#en la lista summaries iremos guardando los resumenes de cada articulo\n",
    "summaries = []\n",
    "for title in search_results:\n",
    "    try:\n",
    "        page = wikipedia.page(title)\n",
    "        #wikipedia.page nos entrega los articulos que contienen la palabra 'title' es decir astros\n",
    "        summaries.append(page.summary)\n",
    "        #agregamos el resumen a la lista\n",
    "    except:\n",
    "        continue\n",
    "\n",
    "for summary in summaries:\n",
    "    print(summary)\n",
    "    print('------------------------------------')"
   ]
  },
  {
   "cell_type": "code",
   "execution_count": 32,
   "metadata": {},
   "outputs": [
    {
     "data": {
      "text/html": [
       "<div>\n",
       "<style scoped>\n",
       "    .dataframe tbody tr th:only-of-type {\n",
       "        vertical-align: middle;\n",
       "    }\n",
       "\n",
       "    .dataframe tbody tr th {\n",
       "        vertical-align: top;\n",
       "    }\n",
       "\n",
       "    .dataframe thead th {\n",
       "        text-align: right;\n",
       "    }\n",
       "</style>\n",
       "<table border=\"1\" class=\"dataframe\">\n",
       "  <thead>\n",
       "    <tr style=\"text-align: right;\">\n",
       "      <th></th>\n",
       "      <th>ns</th>\n",
       "      <th>title</th>\n",
       "      <th>pageid</th>\n",
       "      <th>size</th>\n",
       "      <th>wordcount</th>\n",
       "      <th>snippet</th>\n",
       "      <th>timestamp</th>\n",
       "    </tr>\n",
       "  </thead>\n",
       "  <tbody>\n",
       "    <tr>\n",
       "      <th>0</th>\n",
       "      <td>0</td>\n",
       "      <td>Objeto astronómico</td>\n",
       "      <td>59546</td>\n",
       "      <td>9512</td>\n",
       "      <td>1001</td>\n",
       "      <td>«&lt;span class=\"searchmatch\"&gt;Astro&lt;/span&gt;» redir...</td>\n",
       "      <td>2023-02-27T19:24:58Z</td>\n",
       "    </tr>\n",
       "    <tr>\n",
       "      <th>1</th>\n",
       "      <td>0</td>\n",
       "      <td>ASTRO-E</td>\n",
       "      <td>526921</td>\n",
       "      <td>2855</td>\n",
       "      <td>270</td>\n",
       "      <td>&lt;span class=\"searchmatch\"&gt;ASTRO&lt;/span&gt;-E y &lt;sp...</td>\n",
       "      <td>2021-02-11T01:00:27Z</td>\n",
       "    </tr>\n",
       "    <tr>\n",
       "      <th>2</th>\n",
       "      <td>0</td>\n",
       "      <td>Astro Boy (película)</td>\n",
       "      <td>1713556</td>\n",
       "      <td>10854</td>\n",
       "      <td>1390</td>\n",
       "      <td>cambian el nombre de Toby por &amp;quot;&lt;span cla...</td>\n",
       "      <td>2023-02-01T20:43:36Z</td>\n",
       "    </tr>\n",
       "    <tr>\n",
       "      <th>3</th>\n",
       "      <td>0</td>\n",
       "      <td>El astro</td>\n",
       "      <td>5053299</td>\n",
       "      <td>15297</td>\n",
       "      <td>693</td>\n",
       "      <td>El &lt;span class=\"searchmatch\"&gt;astro&lt;/span&gt; (tít...</td>\n",
       "      <td>2023-05-01T19:49:54Z</td>\n",
       "    </tr>\n",
       "    <tr>\n",
       "      <th>4</th>\n",
       "      <td>0</td>\n",
       "      <td>ASTRO-B</td>\n",
       "      <td>2775932</td>\n",
       "      <td>2404</td>\n",
       "      <td>157</td>\n",
       "      <td>&lt;span class=\"searchmatch\"&gt;ASTRO&lt;/span&gt;-B, baut...</td>\n",
       "      <td>2021-02-22T03:31:22Z</td>\n",
       "    </tr>\n",
       "    <tr>\n",
       "      <th>5</th>\n",
       "      <td>0</td>\n",
       "      <td>Astro (grupo musical)</td>\n",
       "      <td>7411986</td>\n",
       "      <td>9465</td>\n",
       "      <td>597</td>\n",
       "      <td>&lt;span class=\"searchmatch\"&gt;Astro&lt;/span&gt; (en han...</td>\n",
       "      <td>2023-05-03T01:47:46Z</td>\n",
       "    </tr>\n",
       "    <tr>\n",
       "      <th>6</th>\n",
       "      <td>0</td>\n",
       "      <td>Astro Girl - 1</td>\n",
       "      <td>2756472</td>\n",
       "      <td>2155</td>\n",
       "      <td>205</td>\n",
       "      <td>planeta &lt;span class=\"searchmatch\"&gt;Astro&lt;/span&gt;...</td>\n",
       "      <td>2022-03-03T20:30:19Z</td>\n",
       "    </tr>\n",
       "    <tr>\n",
       "      <th>7</th>\n",
       "      <td>0</td>\n",
       "      <td>Astro Girl - 2</td>\n",
       "      <td>2756479</td>\n",
       "      <td>1870</td>\n",
       "      <td>156</td>\n",
       "      <td>por Delcea Mihaela Gabriela, como &lt;span class=...</td>\n",
       "      <td>2021-09-30T19:19:21Z</td>\n",
       "    </tr>\n",
       "    <tr>\n",
       "      <th>8</th>\n",
       "      <td>0</td>\n",
       "      <td>ASTRO-A</td>\n",
       "      <td>2773554</td>\n",
       "      <td>2949</td>\n",
       "      <td>238</td>\n",
       "      <td>&lt;span class=\"searchmatch\"&gt;ASTRO&lt;/span&gt;-A, baut...</td>\n",
       "      <td>2021-02-11T01:30:03Z</td>\n",
       "    </tr>\n",
       "    <tr>\n",
       "      <th>9</th>\n",
       "      <td>0</td>\n",
       "      <td>Torre Astro</td>\n",
       "      <td>9601121</td>\n",
       "      <td>2344</td>\n",
       "      <td>187</td>\n",
       "      <td>La Torre &lt;span class=\"searchmatch\"&gt;Astro&lt;/span...</td>\n",
       "      <td>2022-10-14T22:28:39Z</td>\n",
       "    </tr>\n",
       "  </tbody>\n",
       "</table>\n",
       "</div>"
      ],
      "text/plain": [
       "   ns                  title   pageid   size  wordcount  \\\n",
       "0   0     Objeto astronómico    59546   9512       1001   \n",
       "1   0                ASTRO-E   526921   2855        270   \n",
       "2   0   Astro Boy (película)  1713556  10854       1390   \n",
       "3   0               El astro  5053299  15297        693   \n",
       "4   0                ASTRO-B  2775932   2404        157   \n",
       "5   0  Astro (grupo musical)  7411986   9465        597   \n",
       "6   0         Astro Girl - 1  2756472   2155        205   \n",
       "7   0         Astro Girl - 2  2756479   1870        156   \n",
       "8   0                ASTRO-A  2773554   2949        238   \n",
       "9   0            Torre Astro  9601121   2344        187   \n",
       "\n",
       "                                             snippet             timestamp  \n",
       "0  «<span class=\"searchmatch\">Astro</span>» redir...  2023-02-27T19:24:58Z  \n",
       "1  <span class=\"searchmatch\">ASTRO</span>-E y <sp...  2021-02-11T01:00:27Z  \n",
       "2   cambian el nombre de Toby por &quot;<span cla...  2023-02-01T20:43:36Z  \n",
       "3  El <span class=\"searchmatch\">astro</span> (tít...  2023-05-01T19:49:54Z  \n",
       "4  <span class=\"searchmatch\">ASTRO</span>-B, baut...  2021-02-22T03:31:22Z  \n",
       "5  <span class=\"searchmatch\">Astro</span> (en han...  2023-05-03T01:47:46Z  \n",
       "6  planeta <span class=\"searchmatch\">Astro</span>...  2022-03-03T20:30:19Z  \n",
       "7  por Delcea Mihaela Gabriela, como <span class=...  2021-09-30T19:19:21Z  \n",
       "8  <span class=\"searchmatch\">ASTRO</span>-A, baut...  2021-02-11T01:30:03Z  \n",
       "9  La Torre <span class=\"searchmatch\">Astro</span...  2022-10-14T22:28:39Z  "
      ]
     },
     "execution_count": 32,
     "metadata": {},
     "output_type": "execute_result"
    }
   ],
   "source": [
    "#Haciendolo de la manera antigua\n",
    "buscar_en_titulo = 'Astro'\n",
    " \n",
    "endpoint = 'https://es.wikipedia.org/w/api.php'\n",
    "\n",
    "params = {\n",
    "            'action' : 'query',\n",
    "            'format' : 'json',\n",
    "            'list':'search',\n",
    "            'srsearch' : buscar_en_titulo\n",
    "        }\n",
    "\n",
    "request_wiki = requests.get(endpoint, params=params)\n",
    "\n",
    "df = pd.json_normalize(request_wiki.json()['query']['search'])\n",
    "df"
   ]
  },
  {
   "cell_type": "code",
   "execution_count": 34,
   "metadata": {},
   "outputs": [
    {
     "name": "stdout",
     "output_type": "stream",
     "text": [
      "Artículo: Astro | Contiene Palabra Clave: 0\n",
      "Artículo: Vance Astro | Contiene Palabra Clave: 1\n",
      "Artículo: Astro (Motorola) | Contiene Palabra Clave: 1\n",
      "Artículo: Astro Boy | Contiene Palabra Clave: 0\n",
      "Artículo: Astro (South Korean band) | Contiene Palabra Clave: 1\n",
      "Artículo: Chevrolet Astro | Contiene Palabra Clave: 0\n",
      "Artículo: Astro (television) | Contiene Palabra Clave: 1\n",
      "Artículo: Astro Boy (film) | Contiene Palabra Clave: 1\n",
      "Artículo: Astro hitz | Contiene Palabra Clave: 1\n",
      "Artículo: Astro Pops | Contiene Palabra Clave: 1\n",
      "Artículo: Man or Astro-man? | Contiene Palabra Clave: 1\n",
      "Artículo: Astro (rapper) | Contiene Palabra Clave: 1\n",
      "Artículo: Astro Gaming | Contiene Palabra Clave: 1\n",
      "Artículo: Moonbin | Contiene Palabra Clave: 0\n",
      "Artículo: Astro City | Contiene Palabra Clave: 1\n",
      "Artículo: Astro Wheel | Contiene Palabra Clave: 0\n",
      "Artículo: Amazon Astro | Contiene Palabra Clave: 1\n",
      "Artículo: Astro Lounge | Contiene Palabra Clave: 1\n",
      "Artículo: Astro Boy (disambiguation) | Contiene Palabra Clave: 0\n",
      "Artículo: Houston Astros | Contiene Palabra Clave: 1\n"
     ]
    }
   ],
   "source": [
    "#Crear una variable con 0 o 1 que indique si el resumen contiene la palabra astros o ciencia \n",
    "search_results = wikipedia.search('astro', results=20)\n",
    "#buscamos de la misma manera articulos con la palabra astro\n",
    "contains_keyword = []\n",
    "for title in search_results:\n",
    "    try:\n",
    "        page = wikipedia.page(title)\n",
    "        summary = page.summary.lower()\n",
    "        #pasamos todo a minuscula para que no haya problema en buscar la palabra 'astro' o 'ciencia'\n",
    "        if 'astro' in summary or 'ciencia' in summary:\n",
    "            #si contiene la palabra lo guardaremos en nuestra lista un 1 \n",
    "            contains_keyword.append(1)\n",
    "        else:\n",
    "            #si no la contiene la guardaremos en la lista un 0 \n",
    "            contains_keyword.append(0)\n",
    "    except:\n",
    "        contains_keyword.append(0)\n",
    "        continue\n",
    "#imprimimos los resultados ek 1 nos indica que una de las palabras cklave esta en el articulo mientras el 0 indica que no hay ninguna de las 2\n",
    "for result, keyword in zip(search_results, contains_keyword):\n",
    "    print(f\"Artículo: {result} | Contiene Palabra Clave: {keyword}\")  "
   ]
  },
  {
   "cell_type": "code",
   "execution_count": 38,
   "metadata": {},
   "outputs": [
    {
     "name": "stderr",
     "output_type": "stream",
     "text": [
      "C:\\Users\\yael_\\anaconda3\\lib\\site-packages\\wikipedia\\wikipedia.py:389: GuessedAtParserWarning: No parser was explicitly specified, so I'm using the best available HTML parser for this system (\"lxml\"). This usually isn't a problem, but if you run this code on another system, or in a different virtual environment, it may use a different parser and behave differently.\n",
      "\n",
      "The code that caused this warning is on line 389 of the file C:\\Users\\yael_\\anaconda3\\lib\\site-packages\\wikipedia\\wikipedia.py. To get rid of this warning, pass the additional argument 'features=\"lxml\"' to the BeautifulSoup constructor.\n",
      "\n",
      "  lis = BeautifulSoup(html).find_all('li')\n"
     ]
    },
    {
     "data": {
      "text/html": [
       "<div>\n",
       "<style scoped>\n",
       "    .dataframe tbody tr th:only-of-type {\n",
       "        vertical-align: middle;\n",
       "    }\n",
       "\n",
       "    .dataframe tbody tr th {\n",
       "        vertical-align: top;\n",
       "    }\n",
       "\n",
       "    .dataframe thead th {\n",
       "        text-align: right;\n",
       "    }\n",
       "</style>\n",
       "<table border=\"1\" class=\"dataframe\">\n",
       "  <thead>\n",
       "    <tr style=\"text-align: right;\">\n",
       "      <th></th>\n",
       "      <th>pageid</th>\n",
       "      <th>titulo</th>\n",
       "      <th>resumen</th>\n",
       "      <th>contiene_palabra</th>\n",
       "    </tr>\n",
       "  </thead>\n",
       "  <tbody>\n",
       "    <tr>\n",
       "      <th>0</th>\n",
       "      <td>2312277</td>\n",
       "      <td>Vance Astro</td>\n",
       "      <td>vance astro, born vance astrovik and going by ...</td>\n",
       "      <td>1</td>\n",
       "    </tr>\n",
       "    <tr>\n",
       "      <th>1</th>\n",
       "      <td>10371580</td>\n",
       "      <td>Astro (Motorola)</td>\n",
       "      <td>astro 25 is the next generation of astro digit...</td>\n",
       "      <td>1</td>\n",
       "    </tr>\n",
       "    <tr>\n",
       "      <th>2</th>\n",
       "      <td>49596116</td>\n",
       "      <td>Astro (South Korean band)</td>\n",
       "      <td>astro (korean: 아스트로; stylized in all caps) is ...</td>\n",
       "      <td>1</td>\n",
       "    </tr>\n",
       "    <tr>\n",
       "      <th>3</th>\n",
       "      <td>25645509</td>\n",
       "      <td>Astro (television)</td>\n",
       "      <td>all-asian satellite television and radio opera...</td>\n",
       "      <td>1</td>\n",
       "    </tr>\n",
       "    <tr>\n",
       "      <th>4</th>\n",
       "      <td>10556722</td>\n",
       "      <td>Astro Boy (film)</td>\n",
       "      <td>astro boy is a 2009 computer-animated superher...</td>\n",
       "      <td>1</td>\n",
       "    </tr>\n",
       "    <tr>\n",
       "      <th>5</th>\n",
       "      <td>11629041</td>\n",
       "      <td>Astro hitz</td>\n",
       "      <td>astro hitz, formerly known as hitz.tv was a ma...</td>\n",
       "      <td>1</td>\n",
       "    </tr>\n",
       "    <tr>\n",
       "      <th>6</th>\n",
       "      <td>35511129</td>\n",
       "      <td>Astro Pops</td>\n",
       "      <td>astro pops are transparent three-color cone-sh...</td>\n",
       "      <td>1</td>\n",
       "    </tr>\n",
       "    <tr>\n",
       "      <th>7</th>\n",
       "      <td>1447131</td>\n",
       "      <td>Man or Astro-man?</td>\n",
       "      <td>\"man or astro-man?\" is an american surf rock g...</td>\n",
       "      <td>1</td>\n",
       "    </tr>\n",
       "    <tr>\n",
       "      <th>8</th>\n",
       "      <td>41338151</td>\n",
       "      <td>Astro (rapper)</td>\n",
       "      <td>brian vaughn bradley jr. (born september 27, 1...</td>\n",
       "      <td>1</td>\n",
       "    </tr>\n",
       "    <tr>\n",
       "      <th>9</th>\n",
       "      <td>65282619</td>\n",
       "      <td>Astro Gaming</td>\n",
       "      <td>astro gaming is an american consumer electroni...</td>\n",
       "      <td>1</td>\n",
       "    </tr>\n",
       "  </tbody>\n",
       "</table>\n",
       "</div>"
      ],
      "text/plain": [
       "     pageid                     titulo  \\\n",
       "0   2312277                Vance Astro   \n",
       "1  10371580           Astro (Motorola)   \n",
       "2  49596116  Astro (South Korean band)   \n",
       "3  25645509         Astro (television)   \n",
       "4  10556722           Astro Boy (film)   \n",
       "5  11629041                 Astro hitz   \n",
       "6  35511129                 Astro Pops   \n",
       "7   1447131          Man or Astro-man?   \n",
       "8  41338151             Astro (rapper)   \n",
       "9  65282619               Astro Gaming   \n",
       "\n",
       "                                             resumen  contiene_palabra  \n",
       "0  vance astro, born vance astrovik and going by ...                 1  \n",
       "1  astro 25 is the next generation of astro digit...                 1  \n",
       "2  astro (korean: 아스트로; stylized in all caps) is ...                 1  \n",
       "3  all-asian satellite television and radio opera...                 1  \n",
       "4  astro boy is a 2009 computer-animated superher...                 1  \n",
       "5  astro hitz, formerly known as hitz.tv was a ma...                 1  \n",
       "6  astro pops are transparent three-color cone-sh...                 1  \n",
       "7  \"man or astro-man?\" is an american surf rock g...                 1  \n",
       "8  brian vaughn bradley jr. (born september 27, 1...                 1  \n",
       "9  astro gaming is an american consumer electroni...                 1  "
      ]
     },
     "execution_count": 38,
     "metadata": {},
     "output_type": "execute_result"
    }
   ],
   "source": [
    "#Crear dataframe con columnas: pageid, titulo, resumen, contiene_palabra\n",
    "search_results = wikipedia.search('astro', results=20)\n",
    "\n",
    "data = []\n",
    "for title in search_results:\n",
    "    try:\n",
    "        page = wikipedia.page(title)\n",
    "        summary = page.summary.lower()\n",
    "        contains_keyword = 1 if 'astro' or 'ciencia' in summary else 0\n",
    "        #seguimos los mismos pasos que en el inciso anterior pero ahora crearemos una lista con datos para un dataframe, usando un diccionario\n",
    "        data.append({'pageid': page.pageid, 'titulo': page.title, 'resumen': summary, 'contiene_palabra': contains_keyword})\n",
    "    except:\n",
    "        continue\n",
    "\n",
    "df = pd.DataFrame(data)\n",
    "df.head(10)"
   ]
  },
  {
   "cell_type": "code",
   "execution_count": null,
   "metadata": {},
   "outputs": [],
   "source": []
  }
 ],
 "metadata": {
  "kernelspec": {
   "display_name": "Python 3",
   "language": "python",
   "name": "python3"
  },
  "language_info": {
   "codemirror_mode": {
    "name": "ipython",
    "version": 3
   },
   "file_extension": ".py",
   "mimetype": "text/x-python",
   "name": "python",
   "nbconvert_exporter": "python",
   "pygments_lexer": "ipython3",
   "version": "3.8.5"
  }
 },
 "nbformat": 4,
 "nbformat_minor": 4
}
