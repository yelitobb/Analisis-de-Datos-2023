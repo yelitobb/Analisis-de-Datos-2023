{
 "cells": [
  {
   "cell_type": "code",
   "execution_count": 49,
   "metadata": {},
   "outputs": [
    {
     "name": "stdout",
     "output_type": "stream",
     "text": [
      "['yopmail', 'outlook', 'hotmail', 'licifug', 'gmail', 'ugto']\n",
      "[3, 4, 4, 6, 3, 2, 0, 6, 2, 7, 2, 4, 7, 7, 4, 2, 4, 5, 7, 6, 7, 4, 6, 7]\n",
      "['carrillocl2019', 'veronicamc1223', 'alvarezcu2019', 'uridedomjua', 'hernandeztj2019', 'serart_98', 'bgbg5530', 'perritofaldero_33', 'perezrj2019', 'cd.rodriguezlicea', 'pau', 'lemusae2019', 'gagruxeuwoiddi-1547', 'yeucroudussudu-8941', 'username1284', 'cheels.08', 'yael_baca', 'a.escobedo', 'e.martinezmiranda', 'se.lopezlazaro', 'ca.gonzalezcorona', 'jimenezsa2018', 'silviamendozza15', 'vm.gonzalezaguayo']\n",
      "\n"
     ]
    }
   ],
   "source": [
    "nombres = []\n",
    "dominios = []\n",
    "vocal = []\n",
    "archivo = open(\"lista_correos.txt\", \"r\")\n",
    "#leer cada linea (cada correo)\n",
    "for linea in archivo.readlines():\n",
    "    #linea1 tiene dos elementos, lo que está antes y después del arroba\n",
    "    linea1 = linea.split(\"@\")\n",
    "    #linea2 tiene diversos elementos pero el dominio se encuentra en la posicion 0\n",
    "    linea2 = linea1[1].split(\".\")\n",
    "    #linea3 es linea2 sin mayusculas\n",
    "    linea3 = linea1[0].lower()\n",
    "    #conteo de cada vocal\n",
    "    a = linea3.count(\"a\")\n",
    "    e = linea3.count(\"e\")\n",
    "    i = linea3.count(\"i\")\n",
    "    o = linea3.count(\"o\")\n",
    "    u = linea3.count(\"u\")\n",
    "    vocales = a + e + i + o + u\n",
    "    # agregar a listas los nombres y el conteo de vocales (en su posicion correspondiente)\n",
    "    nombres.append(linea1[0])\n",
    "    vocal.append(vocales)\n",
    "    #lista de los dominios cuidando que no se repitan\n",
    "    for dominio in dominios:\n",
    "        if dominio == linea2[0]:\n",
    "            dominios.remove(linea2[0])\n",
    "    dominios.append(linea2[0])\n",
    "archivo.close()\n",
    "print(dominios)\n",
    "#print(vocal)\n",
    "#print(nombres)\n",
    "\n",
    "\n",
    "#creando el documento con la lista de usuarios\n",
    "lista_usuarios = open(\"lista_de_usuarios.txt\", \"w+\")\n",
    "i = 0\n",
    "for nombre in nombres:\n",
    "    lista_usuarios.write(nombre + \" tiene \" + str(vocal[i]) + \" vocales\\n\")\n",
    "    i += 1\n",
    "lista = lista_usuarios.read()\n",
    "print(lista)\n",
    "lista_usuarios.close()"
   ]
  },
  {
   "cell_type": "code",
   "execution_count": 23,
   "metadata": {},
   "outputs": [
    {
     "name": "stdout",
     "output_type": "stream",
     "text": [
      "['ab', 'fg']\n"
     ]
    }
   ],
   "source": [
    "can = [\"ab\", \"cd\", \"fg\"]\n",
    "can.remove(\"cd\")\n",
    "print(can)"
   ]
  },
  {
   "cell_type": "code",
   "execution_count": 36,
   "metadata": {},
   "outputs": [
    {
     "name": "stdout",
     "output_type": "stream",
     "text": [
      "migUelE\n",
      "miguele\n"
     ]
    }
   ],
   "source": [
    "al = \"migUelE\"\n",
    "al.lower\n",
    "print(al)\n",
    "print(al.lower())"
   ]
  },
  {
   "cell_type": "code",
   "execution_count": null,
   "metadata": {},
   "outputs": [],
   "source": []
  }
 ],
 "metadata": {
  "kernelspec": {
   "display_name": "Python 3",
   "language": "python",
   "name": "python3"
  },
  "language_info": {
   "codemirror_mode": {
    "name": "ipython",
    "version": 3
   },
   "file_extension": ".py",
   "mimetype": "text/x-python",
   "name": "python",
   "nbconvert_exporter": "python",
   "pygments_lexer": "ipython3",
   "version": "3.8.5"
  }
 },
 "nbformat": 4,
 "nbformat_minor": 5
}
