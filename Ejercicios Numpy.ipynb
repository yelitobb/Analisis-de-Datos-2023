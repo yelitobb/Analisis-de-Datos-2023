{
 "cells": [
  {
   "cell_type": "markdown",
   "metadata": {},
   "source": [
    "# Ejercicios Numpy"
   ]
  },
  {
   "cell_type": "markdown",
   "metadata": {},
   "source": [
    "## Ejercicio 1\n",
    "Hacer una matriz de 8x8 con numeros enteros consecutivos empezando en el uno, llenado por filas ([1,2,3,4])"
   ]
  },
  {
   "cell_type": "code",
   "execution_count": 1,
   "metadata": {},
   "outputs": [],
   "source": [
    "import numpy as np"
   ]
  },
  {
   "cell_type": "code",
   "execution_count": 11,
   "metadata": {},
   "outputs": [
    {
     "data": {
      "text/plain": [
       "array([[ 1,  2,  3,  4,  5,  6,  7,  8],\n",
       "       [ 9, 10, 11, 12, 13, 14, 15, 16],\n",
       "       [17, 18, 19, 20, 21, 22, 23, 24],\n",
       "       [25, 26, 27, 28, 29, 30, 31, 32],\n",
       "       [33, 34, 35, 36, 37, 38, 39, 40],\n",
       "       [41, 42, 43, 44, 45, 46, 47, 48],\n",
       "       [49, 50, 51, 52, 53, 54, 55, 56],\n",
       "       [57, 58, 59, 60, 61, 62, 63, 64]])"
      ]
     },
     "execution_count": 11,
     "metadata": {},
     "output_type": "execute_result"
    }
   ],
   "source": [
    "#creamos un arreglo de 64 espacios que va de 1 en 1 hasta el 64\n",
    "a_1 = np.arange(1,65)\n",
    "#lo reformamos a una matriz de 8x8\n",
    "a_1_ayuda = a_1.reshape(8,8)\n",
    "a_1_ayuda"
   ]
  },
  {
   "cell_type": "markdown",
   "metadata": {},
   "source": [
    "## Ejercicio 2\n",
    "1) Hacer una matriz de 8x8 con numeros enteros consecutivos, llenado por columnas\n",
    "\n",
    "2) Reemplazar los elementos que tengan al menos un 3 por un -99"
   ]
  },
  {
   "cell_type": "code",
   "execution_count": 3,
   "metadata": {},
   "outputs": [
    {
     "name": "stdout",
     "output_type": "stream",
     "text": [
      "[[ 1.  9. 17. 25. 33. 41. 49. 57.]\n",
      " [ 2. 10. 18. 26. 34. 42. 50. 58.]\n",
      " [ 3. 11. 19. 27. 35. 43. 51. 59.]\n",
      " [ 4. 12. 20. 28. 36. 44. 52. 60.]\n",
      " [ 5. 13. 21. 29. 37. 45. 53. 61.]\n",
      " [ 6. 14. 22. 30. 38. 46. 54. 62.]\n",
      " [ 7. 15. 23. 31. 39. 47. 55. 63.]\n",
      " [ 8. 16. 24. 32. 40. 48. 56. 64.]] \n",
      " [[ 1  2  3  4  5  6  7  8]\n",
      " [ 9 10 11 12 13 14 15 16]\n",
      " [17 18 19 20 21 22 23 24]\n",
      " [25 26 27 28 29 30 31 32]\n",
      " [33 34 35 36 37 38 39 40]\n",
      " [41 42 43 44 45 46 47 48]\n",
      " [49 50 51 52 53 54 55 56]\n",
      " [57 58 59 60 61 62 63 64]]\n"
     ]
    }
   ],
   "source": [
    "#Creamos una matriz de 8x8 con numeros consecutivos y llenada por fila\n",
    "a_1 = np.arange(1,65)\n",
    "a_1_ayuda = a_1.reshape(8,8)\n",
    "a_1_sol = np.zeros([8,8])\n",
    "#Creamos una nueva matriz que a cada elemento i,j le asigna el elemento j,i de la matriz original, de esta manera transponiendola\n",
    "for i in range(8):\n",
    "    for j in range(8):\n",
    "        a_1_sol[i,j]=a_1_ayuda[j,i]\n",
    "print(a_1_sol,\"\\n\",a_1_ayuda)"
   ]
  },
  {
   "cell_type": "code",
   "execution_count": 4,
   "metadata": {},
   "outputs": [
    {
     "name": "stdout",
     "output_type": "stream",
     "text": [
      "[[  1.   9.  17.  25. -99.  41.  49.  57.]\n",
      " [  2.  10.  18.  26. -99.  42.  50.  58.]\n",
      " [-99.  11.  19.  27. -99. -99.  51.  59.]\n",
      " [  4.  12.  20.  28. -99.  44.  52.  60.]\n",
      " [  5. -99.  21.  29. -99.  45. -99.  61.]\n",
      " [  6.  14.  22. -99. -99.  46.  54.  62.]\n",
      " [  7.  15. -99. -99. -99.  47.  55. -99.]\n",
      " [  8.  16.  24. -99.  40.  48.  56.  64.]]\n"
     ]
    }
   ],
   "source": [
    "#nos movemos a a traves de la matriz y convertimos cada uno de los numeros que contiene en string, \n",
    "#analizamos si el string contiene un '3', si lo tiene reemplaza ese valor por -99 como entero\n",
    "for i in range(8):\n",
    "    for j in range(8):\n",
    "        if '3' in str(a_1_sol[i,j]):\n",
    "            a_1_sol[i,j] = -99\n",
    "a_3_aux = a_1_sol\n",
    "print(a_3_aux)"
   ]
  },
  {
   "cell_type": "markdown",
   "metadata": {},
   "source": [
    "## Ejercicio 3"
   ]
  },
  {
   "cell_type": "code",
   "execution_count": 1,
   "metadata": {},
   "outputs": [],
   "source": [
    "import numpy as np"
   ]
  },
  {
   "cell_type": "markdown",
   "metadata": {},
   "source": [
    "i) reproducir la matriz B"
   ]
  },
  {
   "cell_type": "code",
   "execution_count": 5,
   "metadata": {
    "scrolled": true
   },
   "outputs": [
    {
     "data": {
      "text/plain": [
       "array([[0.4 , 0.41, 0.42, 0.43, 0.44],\n",
       "       [0.45, 0.46, 0.47, 0.48, 0.49],\n",
       "       [0.5 , 0.51, 0.52, 0.53, 0.54],\n",
       "       [0.55, 0.56, 0.57, 0.58, 0.59],\n",
       "       [0.6 , 0.61, 0.62, 0.63, 0.64],\n",
       "       [0.65, 0.66, 0.67, 0.68, 0.69],\n",
       "       [0.7 , 0.71, 0.72, 0.73, 0.74],\n",
       "       [0.75, 0.76, 0.77, 0.78, 0.79]])"
      ]
     },
     "execution_count": 5,
     "metadata": {},
     "output_type": "execute_result"
    }
   ],
   "source": [
    "a_2 = np.arange(0,40)\n",
    "a_2 = a_2/100 + .4\n",
    "a_2 = a_2.reshape(8,5)\n",
    "a_2#solucion del inciso i"
   ]
  },
  {
   "cell_type": "markdown",
   "metadata": {},
   "source": [
    "ii)Unir B con el resultado del ejercicio anterior 2.ii para obtener una matriz de 8 lineas y 13 columnas."
   ]
  },
  {
   "cell_type": "code",
   "execution_count": 9,
   "metadata": {
    "scrolled": true
   },
   "outputs": [
    {
     "data": {
      "text/plain": [
       "array([[  1.  ,   9.  ,  17.  ,  25.  , -99.  ,  41.  ,  49.  ,  57.  ,\n",
       "          0.4 ,   0.41,   0.42,   0.43,   0.44],\n",
       "       [  2.  ,  10.  ,  18.  ,  26.  , -99.  ,  42.  ,  50.  ,  58.  ,\n",
       "          0.45,   0.46,   0.47,   0.48,   0.49],\n",
       "       [-99.  ,  11.  ,  19.  ,  27.  , -99.  , -99.  ,  51.  ,  59.  ,\n",
       "          0.5 ,   0.51,   0.52,   0.53,   0.54],\n",
       "       [  4.  ,  12.  ,  20.  ,  28.  , -99.  ,  44.  ,  52.  ,  60.  ,\n",
       "          0.55,   0.56,   0.57,   0.58,   0.59],\n",
       "       [  5.  , -99.  ,  21.  ,  29.  , -99.  ,  45.  , -99.  ,  61.  ,\n",
       "          0.6 ,   0.61,   0.62,   0.63,   0.64],\n",
       "       [  6.  ,  14.  ,  22.  , -99.  , -99.  ,  46.  ,  54.  ,  62.  ,\n",
       "          0.65,   0.66,   0.67,   0.68,   0.69],\n",
       "       [  7.  ,  15.  , -99.  , -99.  , -99.  ,  47.  ,  55.  , -99.  ,\n",
       "          0.7 ,   0.71,   0.72,   0.73,   0.74],\n",
       "       [  8.  ,  16.  ,  24.  , -99.  ,  40.  ,  48.  ,  56.  ,  64.  ,\n",
       "          0.75,   0.76,   0.77,   0.78,   0.79]])"
      ]
     },
     "execution_count": 9,
     "metadata": {},
     "output_type": "execute_result"
    }
   ],
   "source": [
    "a_3_final = []\n",
    "a_33 = []\n",
    "a_3_aux = a_1_sol#es la solucion del ejercicio 2\n",
    "for i in range(0,8):\n",
    "    a_3_final.append(i)  #creamos una lista de 8 elementos  \n",
    "for i in range(0,8):\n",
    "    a_3_final[0] = np.append(a_3_aux[i],a_2[i,0])#al primer elemento de una lista de 8 elementos le asignamos la primer fila \n",
    "    #de la solucion del ejercicio 2 y le agregamos el primer elemento de la fila 1 de la solucion del primer inciso\n",
    "    for j in range(1,5):\n",
    "        a_3_final[j] = np.append(a_3_final[j-1],a_2[i,j])#en el 2do elemento de la lista guardamos una copia del primer elemento \n",
    "        #de la lista y le agregamos el segundo elemento de la fila 1 de la solucion del primer inciso, y repetimos este proceso  \n",
    "        #para todos los elementos de la primera fila, despues repeteimos para los de la 2da fila etc\n",
    "    a_33.append(a_3_final[j]) #en otra lista vacia, agregamos el arreglo final de los 2 renglones concatenados\n",
    "a_33 = np.concatenate(a_33).reshape(8,13) #concatenamos todos los elementos de la lista y los reformamos\n",
    "a_33#solucion del inciso ii"
   ]
  },
  {
   "cell_type": "markdown",
   "metadata": {},
   "source": [
    "iii) Agregar una linea al final con el promedio de cada columna"
   ]
  },
  {
   "cell_type": "code",
   "execution_count": 200,
   "metadata": {},
   "outputs": [
    {
     "name": "stdout",
     "output_type": "stream",
     "text": [
      "[[  1.      9.     17.     25.    -99.     41.     49.     57.      0.4\n",
      "    0.41    0.42    0.43    0.44 ]\n",
      " [  2.     10.     18.     26.    -99.     42.     50.     58.      0.45\n",
      "    0.46    0.47    0.48    0.49 ]\n",
      " [-99.     11.     19.     27.    -99.    -99.     51.     59.      0.5\n",
      "    0.51    0.52    0.53    0.54 ]\n",
      " [  4.     12.     20.     28.    -99.     44.     52.     60.      0.55\n",
      "    0.56    0.57    0.58    0.59 ]\n",
      " [  5.    -99.     21.     29.    -99.     45.    -99.     61.      0.6\n",
      "    0.61    0.62    0.63    0.64 ]\n",
      " [  6.     14.     22.    -99.    -99.     46.     54.     62.      0.65\n",
      "    0.66    0.67    0.68    0.69 ]\n",
      " [  7.     15.    -99.    -99.    -99.     47.     55.    -99.      0.7\n",
      "    0.71    0.72    0.73    0.74 ]\n",
      " [  8.     16.     24.    -99.     40.     48.     56.     64.      0.75\n",
      "    0.76    0.77    0.78    0.79 ]\n",
      " [ -8.25   -1.5     5.25  -20.25  -81.625  26.75   33.5    40.25    0.575\n",
      "    0.585   0.595   0.605   0.615]]\n"
     ]
    }
   ],
   "source": [
    "ax = np.zeros(8)\n",
    "proms = np.zeros(13)\n",
    "for j in range(0,13):\n",
    "    for i in range(0,8):\n",
    "        ax[i] = a_33[i,j]\n",
    "    proms[j] = np.mean(ax)\n",
    "a_33 = np.append(a_33,proms).reshape(9,13)\n",
    "print(a_33)#solucion del inciso iii"
   ]
  },
  {
   "cell_type": "markdown",
   "metadata": {},
   "source": [
    "iv) Agregar una columna al final con el valor maximo de cada fila"
   ]
  },
  {
   "cell_type": "code",
   "execution_count": 242,
   "metadata": {},
   "outputs": [
    {
     "data": {
      "text/plain": [
       "array([[  1.   ,   9.   ,  17.   ,  25.   , -99.   ,  41.   ,  49.   ,\n",
       "         57.   ,   0.4  ,   0.41 ,   0.42 ,   0.43 ,   0.44 ,  57.   ],\n",
       "       [  2.   ,  10.   ,  18.   ,  26.   , -99.   ,  42.   ,  50.   ,\n",
       "         58.   ,   0.45 ,   0.46 ,   0.47 ,   0.48 ,   0.49 ,  58.   ],\n",
       "       [-99.   ,  11.   ,  19.   ,  27.   , -99.   , -99.   ,  51.   ,\n",
       "         59.   ,   0.5  ,   0.51 ,   0.52 ,   0.53 ,   0.54 ,  59.   ],\n",
       "       [  4.   ,  12.   ,  20.   ,  28.   , -99.   ,  44.   ,  52.   ,\n",
       "         60.   ,   0.55 ,   0.56 ,   0.57 ,   0.58 ,   0.59 ,  60.   ],\n",
       "       [  5.   , -99.   ,  21.   ,  29.   , -99.   ,  45.   , -99.   ,\n",
       "         61.   ,   0.6  ,   0.61 ,   0.62 ,   0.63 ,   0.64 ,  61.   ],\n",
       "       [  6.   ,  14.   ,  22.   , -99.   , -99.   ,  46.   ,  54.   ,\n",
       "         62.   ,   0.65 ,   0.66 ,   0.67 ,   0.68 ,   0.69 ,  62.   ],\n",
       "       [  7.   ,  15.   , -99.   , -99.   , -99.   ,  47.   ,  55.   ,\n",
       "        -99.   ,   0.7  ,   0.71 ,   0.72 ,   0.73 ,   0.74 ,  55.   ],\n",
       "       [  8.   ,  16.   ,  24.   , -99.   ,  40.   ,  48.   ,  56.   ,\n",
       "         64.   ,   0.75 ,   0.76 ,   0.77 ,   0.78 ,   0.79 ,  64.   ],\n",
       "       [ -8.25 ,  -1.5  ,   5.25 , -20.25 , -81.625,  26.75 ,  33.5  ,\n",
       "         40.25 ,   0.575,   0.585,   0.595,   0.605,   0.615,  40.25 ]])"
      ]
     },
     "execution_count": 242,
     "metadata": {},
     "output_type": "execute_result"
    }
   ],
   "source": [
    "b = a_33\n",
    "lista = []\n",
    "lis = []\n",
    "for i in range(0,9):\n",
    "    lista.append(i)\n",
    "for i in range(0,9):\n",
    "    a = np.max(a_33[i])\n",
    "    lista[i] = np.append(b[i],a) \n",
    "lista = np.concatenate(lista).reshape(9,14)\n",
    "lista #solucion del inciso iv"
   ]
  },
  {
   "cell_type": "markdown",
   "metadata": {},
   "source": [
    "Otras soluciones"
   ]
  },
  {
   "cell_type": "code",
   "execution_count": 12,
   "metadata": {},
   "outputs": [
    {
     "name": "stdout",
     "output_type": "stream",
     "text": [
      "B = \n",
      " [[0.4  0.41 0.42 0.43 0.44]\n",
      " [0.45 0.46 0.47 0.48 0.49]\n",
      " [0.5  0.51 0.52 0.53 0.54]\n",
      " [0.55 0.56 0.57 0.58 0.59]\n",
      " [0.6  0.61 0.62 0.63 0.64]\n",
      " [0.65 0.66 0.67 0.68 0.69]\n",
      " [0.7  0.71 0.72 0.73 0.74]\n",
      " [0.75 0.76 0.77 0.78 0.79]]\n"
     ]
    }
   ],
   "source": [
    "B = np.arange(0.4,0.8,0.01).reshape(8,5)\n",
    "\n",
    "print('B = \\n', B)"
   ]
  },
  {
   "cell_type": "code",
   "execution_count": 16,
   "metadata": {},
   "outputs": [
    {
     "data": {
      "text/plain": [
       "array([[  1.  ,   9.  ,  17.  ,  25.  , -99.  ,  41.  ,  49.  ,  57.  ,\n",
       "          0.4 ,   0.41,   0.42,   0.43,   0.44],\n",
       "       [  2.  ,  10.  ,  18.  ,  26.  , -99.  ,  42.  ,  50.  ,  58.  ,\n",
       "          0.45,   0.46,   0.47,   0.48,   0.49],\n",
       "       [-99.  ,  11.  ,  19.  ,  27.  , -99.  , -99.  ,  51.  ,  59.  ,\n",
       "          0.5 ,   0.51,   0.52,   0.53,   0.54],\n",
       "       [  4.  ,  12.  ,  20.  ,  28.  , -99.  ,  44.  ,  52.  ,  60.  ,\n",
       "          0.55,   0.56,   0.57,   0.58,   0.59],\n",
       "       [  5.  , -99.  ,  21.  ,  29.  , -99.  ,  45.  , -99.  ,  61.  ,\n",
       "          0.6 ,   0.61,   0.62,   0.63,   0.64],\n",
       "       [  6.  ,  14.  ,  22.  , -99.  , -99.  ,  46.  ,  54.  ,  62.  ,\n",
       "          0.65,   0.66,   0.67,   0.68,   0.69],\n",
       "       [  7.  ,  15.  , -99.  , -99.  , -99.  ,  47.  ,  55.  , -99.  ,\n",
       "          0.7 ,   0.71,   0.72,   0.73,   0.74],\n",
       "       [  8.  ,  16.  ,  24.  , -99.  ,  40.  ,  48.  ,  56.  ,  64.  ,\n",
       "          0.75,   0.76,   0.77,   0.78,   0.79]])"
      ]
     },
     "execution_count": 16,
     "metadata": {},
     "output_type": "execute_result"
    }
   ],
   "source": [
    "C = np.concatenate((a_3_aux, B), axis=1)\n",
    "C"
   ]
  },
  {
   "cell_type": "code",
   "execution_count": 17,
   "metadata": {},
   "outputs": [
    {
     "data": {
      "text/plain": [
       "array([ -8.25 ,  -1.5  ,   5.25 , -20.25 , -81.625,  26.75 ,  33.5  ,\n",
       "        40.25 ,   0.575,   0.585,   0.595,   0.605,   0.615])"
      ]
     },
     "execution_count": 17,
     "metadata": {},
     "output_type": "execute_result"
    }
   ],
   "source": [
    "mean_col = np.mean(C, axis=0)\n",
    "mean_col"
   ]
  },
  {
   "cell_type": "code",
   "execution_count": 27,
   "metadata": {},
   "outputs": [
    {
     "data": {
      "text/plain": [
       "array([[  1.   ,   9.   ,  17.   ,  25.   , -99.   ,  41.   ,  49.   ,\n",
       "         57.   ,   0.4  ,   0.41 ,   0.42 ,   0.43 ,   0.44 ],\n",
       "       [  2.   ,  10.   ,  18.   ,  26.   , -99.   ,  42.   ,  50.   ,\n",
       "         58.   ,   0.45 ,   0.46 ,   0.47 ,   0.48 ,   0.49 ],\n",
       "       [-99.   ,  11.   ,  19.   ,  27.   , -99.   , -99.   ,  51.   ,\n",
       "         59.   ,   0.5  ,   0.51 ,   0.52 ,   0.53 ,   0.54 ],\n",
       "       [  4.   ,  12.   ,  20.   ,  28.   , -99.   ,  44.   ,  52.   ,\n",
       "         60.   ,   0.55 ,   0.56 ,   0.57 ,   0.58 ,   0.59 ],\n",
       "       [  5.   , -99.   ,  21.   ,  29.   , -99.   ,  45.   , -99.   ,\n",
       "         61.   ,   0.6  ,   0.61 ,   0.62 ,   0.63 ,   0.64 ],\n",
       "       [  6.   ,  14.   ,  22.   , -99.   , -99.   ,  46.   ,  54.   ,\n",
       "         62.   ,   0.65 ,   0.66 ,   0.67 ,   0.68 ,   0.69 ],\n",
       "       [  7.   ,  15.   , -99.   , -99.   , -99.   ,  47.   ,  55.   ,\n",
       "        -99.   ,   0.7  ,   0.71 ,   0.72 ,   0.73 ,   0.74 ],\n",
       "       [  8.   ,  16.   ,  24.   , -99.   ,  40.   ,  48.   ,  56.   ,\n",
       "         64.   ,   0.75 ,   0.76 ,   0.77 ,   0.78 ,   0.79 ],\n",
       "       [ -8.25 ,  -1.5  ,   5.25 , -20.25 , -81.625,  26.75 ,  33.5  ,\n",
       "         40.25 ,   0.575,   0.585,   0.595,   0.605,   0.615]])"
      ]
     },
     "execution_count": 27,
     "metadata": {},
     "output_type": "execute_result"
    }
   ],
   "source": [
    "D = np.append(C, mean_col.reshape(1,13), axis = 0)\n",
    "D"
   ]
  },
  {
   "cell_type": "code",
   "execution_count": 28,
   "metadata": {},
   "outputs": [
    {
     "data": {
      "text/plain": [
       "array([57.  , 58.  , 59.  , 60.  , 61.  , 62.  , 55.  , 64.  , 40.25])"
      ]
     },
     "execution_count": 28,
     "metadata": {},
     "output_type": "execute_result"
    }
   ],
   "source": [
    "max_fila = np.max(D, axis=1)\n",
    "max_fila"
   ]
  },
  {
   "cell_type": "code",
   "execution_count": 29,
   "metadata": {},
   "outputs": [
    {
     "data": {
      "text/plain": [
       "array([[  1.   ,   9.   ,  17.   ,  25.   , -99.   ,  41.   ,  49.   ,\n",
       "         57.   ,   0.4  ,   0.41 ,   0.42 ,   0.43 ,   0.44 ,  57.   ],\n",
       "       [  2.   ,  10.   ,  18.   ,  26.   , -99.   ,  42.   ,  50.   ,\n",
       "         58.   ,   0.45 ,   0.46 ,   0.47 ,   0.48 ,   0.49 ,  58.   ],\n",
       "       [-99.   ,  11.   ,  19.   ,  27.   , -99.   , -99.   ,  51.   ,\n",
       "         59.   ,   0.5  ,   0.51 ,   0.52 ,   0.53 ,   0.54 ,  59.   ],\n",
       "       [  4.   ,  12.   ,  20.   ,  28.   , -99.   ,  44.   ,  52.   ,\n",
       "         60.   ,   0.55 ,   0.56 ,   0.57 ,   0.58 ,   0.59 ,  60.   ],\n",
       "       [  5.   , -99.   ,  21.   ,  29.   , -99.   ,  45.   , -99.   ,\n",
       "         61.   ,   0.6  ,   0.61 ,   0.62 ,   0.63 ,   0.64 ,  61.   ],\n",
       "       [  6.   ,  14.   ,  22.   , -99.   , -99.   ,  46.   ,  54.   ,\n",
       "         62.   ,   0.65 ,   0.66 ,   0.67 ,   0.68 ,   0.69 ,  62.   ],\n",
       "       [  7.   ,  15.   , -99.   , -99.   , -99.   ,  47.   ,  55.   ,\n",
       "        -99.   ,   0.7  ,   0.71 ,   0.72 ,   0.73 ,   0.74 ,  55.   ],\n",
       "       [  8.   ,  16.   ,  24.   , -99.   ,  40.   ,  48.   ,  56.   ,\n",
       "         64.   ,   0.75 ,   0.76 ,   0.77 ,   0.78 ,   0.79 ,  64.   ],\n",
       "       [ -8.25 ,  -1.5  ,   5.25 , -20.25 , -81.625,  26.75 ,  33.5  ,\n",
       "         40.25 ,   0.575,   0.585,   0.595,   0.605,   0.615,  40.25 ]])"
      ]
     },
     "execution_count": 29,
     "metadata": {},
     "output_type": "execute_result"
    }
   ],
   "source": [
    "E = np.append(D, max_fila.reshape(9,1), axis = 1)\n",
    "E"
   ]
  },
  {
   "cell_type": "code",
   "execution_count": null,
   "metadata": {},
   "outputs": [],
   "source": []
  }
 ],
 "metadata": {
  "kernelspec": {
   "display_name": "Python 3",
   "language": "python",
   "name": "python3"
  },
  "language_info": {
   "codemirror_mode": {
    "name": "ipython",
    "version": 3
   },
   "file_extension": ".py",
   "mimetype": "text/x-python",
   "name": "python",
   "nbconvert_exporter": "python",
   "pygments_lexer": "ipython3",
   "version": "3.8.5"
  }
 },
 "nbformat": 4,
 "nbformat_minor": 4
}
