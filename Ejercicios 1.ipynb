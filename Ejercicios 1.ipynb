{
 "cells": [
  {
   "cell_type": "code",
   "execution_count": 50,
   "metadata": {},
   "outputs": [],
   "source": [
    "#Crear archivo con lista de correos\n",
    "\n",
    "f = open(\"lista_correos.txt\", \"w\")\n",
    "f.write(\"karla@gmail.com\\n\")\n",
    "f.write(\"123490909@ugto.mx\\n\")\n",
    "f.write(\"mariana12349@hotmail.com\\n\")\n",
    "f.write(\"abc12349@gmail.com\\n\"*2)\n",
    "f.write(\"dci_ugto@ugto.mx\\n\"*3)\n",
    "f.write(\"yael_baca@hotmail.com\")\n",
    "f.close()"
   ]
  },
  {
   "cell_type": "code",
   "execution_count": 134,
   "metadata": {},
   "outputs": [
    {
     "name": "stdout",
     "output_type": "stream",
     "text": [
      "Lista_dominios_unicos =  ['gmail', 'ugto', 'hotmail']\n"
     ]
    }
   ],
   "source": [
    "f = open(\"lista_correos.txt\", \"r\")\n",
    "\n",
    "lista_dominios = [] \n",
    "vocales = 'aeiou'\n",
    "\n",
    "output = open(\"resultado_ejercicio1.txt\", \"w\") #archivo de salida\n",
    "output.write(\"%12s  %10s   \\n\"%(\"nombre\", \"# vocales\")) #cabecero del archivo de salida \n",
    "\n",
    "for i in f:\n",
    "    nombre = i.split('@')[0]\n",
    "    dominio = i.split('@')[1].split('.')[0]\n",
    "    lista_dominios.append(dominio) # añadir cada uno de los dominios a una lista\n",
    "\n",
    "    n_vocales = [l in vocales for l in nombre].count(True) # contar las vocales en nombre\n",
    "    output.write(\"%12s  %10d   \\n\"%(nombre, n_vocales )) # escribir salida\n",
    "\n",
    "output.close()\n",
    "\n",
    "Lista_dominios_unicos = list(set(lista_dominios)) # elementos unicos\n",
    "\n",
    "print('Lista_dominios_unicos = ', Lista_dominios_unicos)"
   ]
  },
  {
   "cell_type": "code",
   "execution_count": 135,
   "metadata": {},
   "outputs": [
    {
     "name": "stdout",
     "output_type": "stream",
     "text": [
      "      nombre   # vocales   \n",
      "       karla           2   \n",
      "   123490909           0   \n",
      "mariana12349           4   \n",
      "    abc12349           1   \n",
      "    abc12349           1   \n",
      "    dci_ugto           3   \n",
      "    dci_ugto           3   \n",
      "    dci_ugto           3   \n",
      "   yael_baca           4   \n",
      "\n"
     ]
    }
   ],
   "source": [
    "f = open(\"resultado_ejercicio1.txt\", \"r\")\n",
    "print(f.read())"
   ]
  },
  {
   "cell_type": "code",
   "execution_count": 6,
   "metadata": {
    "scrolled": true
   },
   "outputs": [
    {
     "name": "stdout",
     "output_type": "stream",
     "text": [
      "Lista_dominios_unicos =  ['feedburner.com', 'google.cn', 'bluehost.com', 'forbes.com', 'google.nl', 'aol.com', 'last.fm', 'dropbox.com', 'psu.edu', 'a8.net', 'google.ca', 'nps.gov', '123-reg.co.uk', 'canalblog.com', 'mashable.com', 'photobucket.com', 'ed.gov', 'live.com', 'reference.com', 'bloglovin.com', 'amazon.co.jp', 'moonfruit.com', 'elpais.com', 'angelfire.com', 'prnewswire.com', 'livejournal.com', 'stumbleupon.com', 'fc2.com', 'wufoo.com', 'bravesites.com', 'skype.com', 'behance.net', 'comsenz.com', 'wunderground.com', 'google.fr', 'creativecommons.org', 'mozilla.com', 'mit.edu', 'networksolutions.com', 'newyorker.com', 'yellowpages.com', 'spiegel.de', 'amazonaws.com', 'xrea.com', 'devhub.com', 'dot.gov']\n"
     ]
    }
   ],
   "source": [
    "ej1 = open(\"correos.txt\", \"r\")#abro mi archivo de correos\n",
    "lista_dominios=[]#creo una lista donde guardare los dominios\n",
    "vocales = 'aeiou'\n",
    "ej1_sol = open(\"resultado_ejercicio1.txt\", \"w\") #archivo de salida\n",
    "ej1_sol.write(\"%12s  %10s   \\n\"%(\"nombre\", \"# vocales\")) #cabecero del archivo de salida\n",
    "for i in ej1: #creo el for para leer cada uno de los renglones del archivo de texto\n",
    "    nombre = i.split('@')[0] #separo lo que hay antes y despues del arroba\n",
    "    if len(i.split('@')) == 2:#debido al formato del archivo de texto, no todos los renglones son correo, los que cumplen con la condicion len == 2 son correos\n",
    "        dominio = i.split('@')[1]#debido al formato del texto, aparece un \\x00 entre cada letra por lo que tenemos que removerlo\n",
    "        dominio = dominio.split('\\x00')#convertirmos el dominio en una lista de las letras sin el \\x00\n",
    "        dominio.pop(-1)\n",
    "        dominiox = ''\n",
    "        for j in dominio:\n",
    "            dominiox = dominiox + j\n",
    "        dominio = dominiox #volvemos a hacer string la lista que antes era dominio cuando le hicimos split\n",
    "        if dominio not in lista_dominios: #agregamos unicamente los dominios que no se repiten\n",
    "            lista_dominios.append(dominio)\n",
    "        n_vocales = [l in vocales for l in nombre].count(True) #contar las vocales en el nombre\n",
    "        ej1_sol.write(\"%15s  %10d   \\n\"%(nombre, n_vocales )) # escribir salida\n",
    "ej1_sol.close()\n",
    "\n",
    "print('Lista_dominios_unicos = ', lista_dominios)"
   ]
  },
  {
   "cell_type": "code",
   "execution_count": 7,
   "metadata": {},
   "outputs": [
    {
     "name": "stdout",
     "output_type": "stream",
     "text": [
      "      nombre   # vocales   \n",
      "ÿþs\u0000b\u0000e\u0000v\u0000e\u0000r\u0000a\u0000g\u0000e\u00001\u0000           4   \n",
      "\u0000b\u0000d\u0000u\u0000n\u0000b\u0000o\u0000b\u0000i\u0000n\u00002\u0000           3   \n",
      "\u0000h\u0000d\u0000i\u0000v\u0000e\u0000l\u0000l\u00003\u0000           2   \n",
      "  \u0000d\u0000e\u0000b\u0000l\u0000e\u00004\u0000           2   \n",
      "  \u0000t\u0000r\u0000e\u0000a\u0000d\u00005\u0000           2   \n",
      "\u0000e\u0000e\u0000a\u0000t\u0000e\u0000s\u00006\u0000           4   \n",
      "\u0000r\u0000m\u0000e\u0000r\u0000c\u0000y\u00007\u0000           1   \n",
      "\u0000a\u0000d\u0000e\u0000r\u0000l\u0000e\u00008\u0000           3   \n",
      "\u0000b\u0000d\u0000a\u0000h\u0000l\u0000m\u0000a\u0000n\u00009\u0000           2   \n",
      "\u0000m\u0000i\u0000m\u0000p\u0000e\u0000y\u0000a\u0000           3   \n",
      "\u0000l\u0000b\u0000e\u0000a\u0000t\u0000e\u0000n\u0000s\u0000b\u0000           3   \n",
      "  \u0000a\u0000d\u0000e\u0000l\u0000f\u0000c\u0000           2   \n",
      "\u0000w\u0000c\u0000o\u0000l\u0000o\u0000m\u0000b\u0000d\u0000           2   \n",
      "\u0000b\u0000g\u0000o\u0000u\u0000l\u0000t\u0000e\u0000r\u0000e\u0000           4   \n",
      "\u0000a\u0000p\u0000h\u0000i\u0000l\u0000i\u0000p\u0000f\u0000           3   \n",
      "\u0000c\u0000h\u0000u\u0000s\u0000t\u0000h\u0000w\u0000a\u0000i\u0000t\u0000e\u0000g\u0000           4   \n",
      "\u0000k\u0000g\u0000o\u0000n\u0000n\u0000e\u0000a\u0000u\u0000h\u0000           4   \n",
      "\u0000a\u0000w\u0000i\u0000l\u0000l\u0000f\u0000o\u0000r\u0000d\u0000i\u0000           4   \n",
      "\u0000l\u0000w\u0000h\u0000i\u0000t\u0000w\u0000e\u0000l\u0000l\u0000j\u0000           2   \n",
      "\u0000w\u0000a\u0000i\u0000s\u0000m\u0000a\u0000n\u0000k\u0000           3   \n",
      "\u0000p\u0000t\u0000e\u0000w\u0000e\u0000l\u0000s\u0000o\u0000n\u0000l\u0000           3   \n",
      "\u0000l\u0000p\u0000e\u0000i\u0000r\u0000p\u0000o\u0000i\u0000n\u0000t\u0000m\u0000           4   \n",
      "\u0000r\u0000m\u0000a\u0000t\u0000o\u0000n\u0000i\u0000n\u0000n\u0000           3   \n",
      "\u0000c\u0000g\u0000e\u0000r\u0000r\u0000i\u0000t\u0000s\u0000m\u0000a\u0000o\u0000           4   \n",
      "\u0000k\u0000l\u0000e\u0000a\u0000t\u0000h\u0000e\u0000r\u0000b\u0000o\u0000r\u0000r\u0000o\u0000w\u0000p\u0000           5   \n",
      "\u0000n\u0000g\u0000a\u0000r\u0000l\u0000e\u0000e\u0000q\u0000           3   \n",
      "\u0000k\u0000o\u0000m\u0000m\u0000a\u0000n\u0000n\u0000e\u0000y\u0000r\u0000           3   \n",
      "\u0000g\u0000p\u0000h\u0000a\u0000l\u0000i\u0000p\u0000s\u0000           2   \n",
      "\u0000f\u0000l\u0000e\u0000s\u0000l\u0000i\u0000e\u0000t\u0000           3   \n",
      "\u0000c\u0000s\u0000a\u0000v\u0000e\u0000r\u0000y\u0000u\u0000           3   \n",
      "\u0000l\u0000b\u0000o\u0000n\u0000t\u0000o\u0000f\u0000t\u0000v\u0000           2   \n",
      "\u0000c\u0000a\u0000l\u0000d\u0000e\u0000n\u0000w\u0000           2   \n",
      "  \u0000c\u0000a\u0000b\u0000b\u0000e\u0000x\u0000           2   \n",
      "\u0000m\u0000g\u0000i\u0000a\u0000c\u0000o\u0000p\u0000i\u0000n\u0000i\u0000y\u0000           5   \n",
      "\u0000w\u0000g\u0000o\u0000o\u0000d\u0000w\u0000i\u0000l\u0000l\u0000z\u0000           3   \n",
      "\u0000r\u0000p\u0000i\u0000g\u0000g\u0000i\u0000n\u0000s\u00001\u00000\u0000           2   \n",
      "\u0000m\u0000g\u0000r\u0000e\u0000l\u0000l\u0000i\u0000s\u00001\u00001\u0000           2   \n",
      "\u0000v\u0000h\u0000a\u0000r\u0000k\u0000e\u0000n\u00001\u00002\u0000           2   \n",
      "\u0000a\u0000d\u0000a\u0000w\u0000d\u0000r\u0000y\u00001\u00003\u0000           2   \n",
      "\u0000r\u0000b\u0000a\u0000y\u0000n\u0000a\u0000m\u00001\u00004\u0000           2   \n",
      "\u0000t\u0000e\u0000m\u0000m\u0000o\u0000t\u00001\u00005\u0000           2   \n",
      "\u0000d\u0000b\u0000e\u0000t\u0000e\u0000r\u0000i\u0000s\u0000s\u00001\u00006\u0000           3   \n",
      "\u0000d\u0000g\u0000a\u0000l\u0000s\u0000w\u0000o\u0000r\u0000t\u0000h\u0000y\u00001\u00007\u0000           2   \n",
      "\u0000l\u0000c\u0000h\u0000e\u0000s\u0000s\u0000i\u0000l\u0000l\u00001\u00008\u0000           2   \n",
      "\u0000c\u0000d\u0000u\u0000f\u0000t\u0000o\u0000n\u00001\u00009\u0000           2   \n",
      "\u0000d\u0000b\u0000u\u0000k\u0000o\u0000w\u0000s\u0000k\u0000i\u00001\u0000a\u0000           4   \n",
      "\u0000a\u0000g\u0000a\u0000r\u0000f\u0000a\u0000t\u0000h\u00001\u0000b\u0000           3   \n",
      "\u0000s\u0000c\u0000a\u0000l\u0000c\u0000u\u0000t\u00001\u0000c\u0000           2   \n",
      "\u0000c\u0000m\u0000a\u0000r\u0000o\u0000n\u00001\u0000d\u0000           2   \n",
      "\n"
     ]
    }
   ],
   "source": [
    "f = open(\"resultado_ejercicio1.txt\", \"r\")\n",
    "print(f.read())    "
   ]
  },
  {
   "cell_type": "code",
   "execution_count": null,
   "metadata": {},
   "outputs": [],
   "source": []
  },
  {
   "cell_type": "code",
   "execution_count": null,
   "metadata": {},
   "outputs": [],
   "source": []
  }
 ],
 "metadata": {
  "kernelspec": {
   "display_name": "Python 3",
   "language": "python",
   "name": "python3"
  },
  "language_info": {
   "codemirror_mode": {
    "name": "ipython",
    "version": 3
   },
   "file_extension": ".py",
   "mimetype": "text/x-python",
   "name": "python",
   "nbconvert_exporter": "python",
   "pygments_lexer": "ipython3",
   "version": "3.8.5"
  }
 },
 "nbformat": 4,
 "nbformat_minor": 5
}
